{
 "cells": [
  {
   "cell_type": "code",
   "execution_count": 161,
   "metadata": {
    "collapsed": true
   },
   "outputs": [],
   "source": [
    "%matplotlib inline \n",
    "import matplotlib.pyplot as plt\n",
    "from matplotlib.colors import LogNorm\n",
    "import numpy as np\n",
    "import pandas as pd\n",
    "from scipy import stats \n",
    "import math"
   ]
  },
  {
   "cell_type": "code",
   "execution_count": 4,
   "metadata": {
    "collapsed": false
   },
   "outputs": [],
   "source": [
    "# SPARCS data \n",
    "sparcs_df_14 = pd.read_csv(\"NYSDOH_Hospital_Inpatient_Discharges_SPARCS_De-Identified_2014.csv\")\n",
    "sparcs_df_13 = pd.read_csv(\"NYSDOH_Hospital_Inpatient_Discharges_SPARCS_De-Identified_2013.csv\")\n",
    "sparcs_df_12 = pd.read_csv(\"NYSDOH_Hospital_Inpatient_Discharges_SPARCS_De-Identified_2012.csv\")\n",
    "sparcs_df_11 = pd.read_csv(\"NYSDOH_Hospital_Inpatient_Discharges_SPARCS_De-Identified_2011.csv\")\n",
    "sparcs_df_10 = pd.read_csv(\"NYSDOH_Hospital_Inpatient_Discharges_SPARCS_De-Identified_2010.csv\")\n",
    "sparcs_df_09 = pd.read_csv(\"NYSDOH_Hospital_Inpatient_Discharges_SPARCS_De-Identified_2009.csv\")\n",
    "\n",
    "#merge years into one large data set\n",
    "frames = [sparcs_df_14, sparcs_df_13, sparcs_df_12, sparcs_df_11, sparcs_df_10, sparcs_df_09]\n",
    "sparcs_df = pd.concat(frames)\n",
    "\n",
    "# delete loaded spreadsheets to free up space\n",
    "del sparcs_df_14\n",
    "del sparcs_df_13\n",
    "del sparcs_df_12\n",
    "del sparcs_df_11\n",
    "del sparcs_df_10\n",
    "del sparcs_df_09\n",
    "del frames\n",
    "\n",
    "# save merged data file so don't have to do this again...\n",
    "sparcs_df.to_csv(\"merged_data.csv\")"
   ]
  },
  {
   "cell_type": "code",
   "execution_count": 3,
   "metadata": {
    "collapsed": false
   },
   "outputs": [],
   "source": [
    "# More data prep\n",
    "sparcs_df = pd.read_csv(\"merged_data.csv\")\n",
    "\n",
    "# define columns to drop\n",
    "cols_to_drop = ['APR DRG Code', 'APR MDC Code',\n",
    "       'APR MDC Description', 'APR Medical Surgical Description',\n",
    "       'APR Severity of Illness Description', 'Abortion Edit Indicator',\n",
    "       'Attending Provider License Number', 'Birth Weight',\n",
    "       'CCS Diagnosis Code', 'CCS Diagnosis Description', 'CCS Procedure Code','Emergency Department Indicator',\n",
    "       'Operating Certificate Number', 'Operating Provider License Number',\n",
    "       'Other Provider License Number','Payment Typology 2', 'Payment Typology 3',\n",
    "       'Permanent Facility Id']\n",
    "\n",
    "# delete columns that aren't used to speed up analysis\n",
    "for col in cols_to_drop: \n",
    "    sparcs_df.drop(col, 1, inplace=True)\n",
    "    \n",
    "# save filtered one so you don't have to do this again\n",
    "sparcs_df.to_csv(\"filtered_merged_data.csv\")"
   ]
  },
  {
   "cell_type": "code",
   "execution_count": 9,
   "metadata": {
    "collapsed": true
   },
   "outputs": [],
   "source": [
    "# Start here for any repeat\n",
    "sparcs_df = pd.read_csv(\"filtered_merged_data.csv\")"
   ]
  },
  {
   "cell_type": "code",
   "execution_count": 10,
   "metadata": {
    "collapsed": false
   },
   "outputs": [],
   "source": [
    "# df w/ procedure names w/  counts to find quantify number of caths\n",
    "proc_df = sparcs_df.groupby(\"CCS Procedure Description\").size().sort_values(\n",
    "    ascending=False).reset_index(\n",
    "    name=\"procedure counts\")\n",
    "\n",
    "# CSV of procedure names w/ counts\n",
    "proc_df.to_csv(\"procedure_counts.csv\")"
   ]
  },
  {
   "cell_type": "code",
   "execution_count": 11,
   "metadata": {
    "collapsed": false,
    "scrolled": false
   },
   "outputs": [
    {
     "data": {
      "text/html": [
       "<div>\n",
       "<table border=\"1\" class=\"dataframe\">\n",
       "  <thead>\n",
       "    <tr style=\"text-align: right;\">\n",
       "      <th></th>\n",
       "      <th>CCS Procedure Description</th>\n",
       "      <th>procedure counts</th>\n",
       "    </tr>\n",
       "  </thead>\n",
       "  <tbody>\n",
       "    <tr>\n",
       "      <th>0</th>\n",
       "      <td>NO PROC</td>\n",
       "      <td>3822703</td>\n",
       "    </tr>\n",
       "    <tr>\n",
       "      <th>1</th>\n",
       "      <td>OTHER THERAPEUTIC PRCS</td>\n",
       "      <td>956934</td>\n",
       "    </tr>\n",
       "    <tr>\n",
       "      <th>2</th>\n",
       "      <td>CESAREAN SECTION</td>\n",
       "      <td>476255</td>\n",
       "    </tr>\n",
       "    <tr>\n",
       "      <th>3</th>\n",
       "      <td>PROPHYLACTIC VAC/INOCUL</td>\n",
       "      <td>447588</td>\n",
       "    </tr>\n",
       "    <tr>\n",
       "      <th>4</th>\n",
       "      <td>ALCO/DRUG REHAB/DETOX</td>\n",
       "      <td>415835</td>\n",
       "    </tr>\n",
       "    <tr>\n",
       "      <th>5</th>\n",
       "      <td>OT PRCS TO ASSIST DELIV</td>\n",
       "      <td>410972</td>\n",
       "    </tr>\n",
       "    <tr>\n",
       "      <th>6</th>\n",
       "      <td>RESP INTUB/MECH VENTIL</td>\n",
       "      <td>404932</td>\n",
       "    </tr>\n",
       "    <tr>\n",
       "      <th>7</th>\n",
       "      <td>REPAIR CUR OBS LACERATN</td>\n",
       "      <td>331283</td>\n",
       "    </tr>\n",
       "    <tr>\n",
       "      <th>8</th>\n",
       "      <td>CIRCUMCISION</td>\n",
       "      <td>313236</td>\n",
       "    </tr>\n",
       "    <tr>\n",
       "      <th>9</th>\n",
       "      <td>OPHTHALM-/OT-OLOGIC DX</td>\n",
       "      <td>309593</td>\n",
       "    </tr>\n",
       "    <tr>\n",
       "      <th>10</th>\n",
       "      <td>PSYCHO/PSYCHI EVAL/THER</td>\n",
       "      <td>305479</td>\n",
       "    </tr>\n",
       "    <tr>\n",
       "      <th>11</th>\n",
       "      <td>BLOOD TRANSFUSION</td>\n",
       "      <td>292703</td>\n",
       "    </tr>\n",
       "    <tr>\n",
       "      <th>12</th>\n",
       "      <td>DX ULTRASOUND HEART</td>\n",
       "      <td>217326</td>\n",
       "    </tr>\n",
       "    <tr>\n",
       "      <th>13</th>\n",
       "      <td>UP GASTRO ENDOSC/BIOPSY</td>\n",
       "      <td>208040</td>\n",
       "    </tr>\n",
       "    <tr>\n",
       "      <th>14</th>\n",
       "      <td>PERC TRANSLUM COR ANGIO</td>\n",
       "      <td>206731</td>\n",
       "    </tr>\n",
       "    <tr>\n",
       "      <th>15</th>\n",
       "      <td>COMP AXIAL TOMOGR (CT)</td>\n",
       "      <td>203646</td>\n",
       "    </tr>\n",
       "    <tr>\n",
       "      <th>16</th>\n",
       "      <td>ARTHROPLASTY KNEE</td>\n",
       "      <td>201868</td>\n",
       "    </tr>\n",
       "    <tr>\n",
       "      <th>17</th>\n",
       "      <td>DX CARDIAC CATHETERIZTN</td>\n",
       "      <td>180058</td>\n",
       "    </tr>\n",
       "    <tr>\n",
       "      <th>18</th>\n",
       "      <td>OTHER RESP THERAPY</td>\n",
       "      <td>176617</td>\n",
       "    </tr>\n",
       "    <tr>\n",
       "      <th>19</th>\n",
       "      <td>HIP REPLACEMENT,TOT/PRT</td>\n",
       "      <td>168719</td>\n",
       "    </tr>\n",
       "  </tbody>\n",
       "</table>\n",
       "</div>"
      ],
      "text/plain": [
       "   CCS Procedure Description  procedure counts\n",
       "0                    NO PROC           3822703\n",
       "1     OTHER THERAPEUTIC PRCS            956934\n",
       "2           CESAREAN SECTION            476255\n",
       "3    PROPHYLACTIC VAC/INOCUL            447588\n",
       "4      ALCO/DRUG REHAB/DETOX            415835\n",
       "5    OT PRCS TO ASSIST DELIV            410972\n",
       "6     RESP INTUB/MECH VENTIL            404932\n",
       "7    REPAIR CUR OBS LACERATN            331283\n",
       "8               CIRCUMCISION            313236\n",
       "9     OPHTHALM-/OT-OLOGIC DX            309593\n",
       "10   PSYCHO/PSYCHI EVAL/THER            305479\n",
       "11         BLOOD TRANSFUSION            292703\n",
       "12       DX ULTRASOUND HEART            217326\n",
       "13   UP GASTRO ENDOSC/BIOPSY            208040\n",
       "14   PERC TRANSLUM COR ANGIO            206731\n",
       "15    COMP AXIAL TOMOGR (CT)            203646\n",
       "16         ARTHROPLASTY KNEE            201868\n",
       "17   DX CARDIAC CATHETERIZTN            180058\n",
       "18        OTHER RESP THERAPY            176617\n",
       "19   HIP REPLACEMENT,TOT/PRT            168719"
      ]
     },
     "execution_count": 11,
     "metadata": {},
     "output_type": "execute_result"
    }
   ],
   "source": [
    "# top 20 most common procedures\n",
    "proc_df.head(20)"
   ]
  },
  {
   "cell_type": "markdown",
   "metadata": {},
   "source": [
    "# Procedures of interest:\n",
    "DX CARDIAC CATHETERIZTN = 180058\n",
    "\n",
    "\n",
    "PERC TRANSLUM COR ANGIO = 206731\n"
   ]
  },
  {
   "cell_type": "code",
   "execution_count": 12,
   "metadata": {
    "collapsed": false
   },
   "outputs": [],
   "source": [
    "# df of all indivitual caths performed\n",
    "cath_df = sparcs_df[(sparcs_df[\"CCS Procedure Description\"].str.upper() == \"DX CARDIAC CATHETERIZTN\") |\n",
    "                   (sparcs_df[\"CCS Procedure Description\"].str.upper() == \"PERC TRANSLUM COR ANGIO\")]"
   ]
  },
  {
   "cell_type": "code",
   "execution_count": 112,
   "metadata": {
    "collapsed": false,
    "scrolled": true
   },
   "outputs": [
    {
     "name": "stderr",
     "output_type": "stream",
     "text": [
      "C:\\Users\\samko\\Anaconda3\\lib\\site-packages\\ipykernel\\__main__.py:2: SettingWithCopyWarning: \n",
      "A value is trying to be set on a copy of a slice from a DataFrame.\n",
      "Try using .loc[row_indexer,col_indexer] = value instead\n",
      "\n",
      "See the caveats in the documentation: http://pandas.pydata.org/pandas-docs/stable/indexing.html#indexing-view-versus-copy\n",
      "  from ipykernel import kernelapp as app\n",
      "C:\\Users\\samko\\Anaconda3\\lib\\site-packages\\ipykernel\\__main__.py:3: SettingWithCopyWarning: \n",
      "A value is trying to be set on a copy of a slice from a DataFrame.\n",
      "Try using .loc[row_indexer,col_indexer] = value instead\n",
      "\n",
      "See the caveats in the documentation: http://pandas.pydata.org/pandas-docs/stable/indexing.html#indexing-view-versus-copy\n",
      "  app.launch_new_instance()\n",
      "C:\\Users\\samko\\Anaconda3\\lib\\site-packages\\ipykernel\\__main__.py:4: SettingWithCopyWarning: \n",
      "A value is trying to be set on a copy of a slice from a DataFrame.\n",
      "Try using .loc[row_indexer,col_indexer] = value instead\n",
      "\n",
      "See the caveats in the documentation: http://pandas.pydata.org/pandas-docs/stable/indexing.html#indexing-view-versus-copy\n"
     ]
    }
   ],
   "source": [
    "# upper case columns for more accurate classification\n",
    "cath_df[\"APR DRG Description\"] = cath_df[\"APR DRG Description\"].str.upper()\n",
    "cath_df[\"Facility Name\"] = cath_df[\"Facility Name\"].str.upper()\n",
    "cath_df[\"Patient Disposition\"] = cath_df[\"Patient Disposition\"].str.upper()"
   ]
  },
  {
   "cell_type": "code",
   "execution_count": 113,
   "metadata": {
    "collapsed": false
   },
   "outputs": [],
   "source": [
    "# df of cath counts per diagnosis\n",
    "dx_cath_df = cath_df.groupby(\"APR DRG Description\").size().sort_values(\n",
    "    ascending=False).reset_index(\n",
    "    name=\"cath counts per dx\")\n",
    "\n",
    "# CSV of cath counts per diagnosis\n",
    "dx_cath_df.to_csv(\"cath_counts_per_dx.csv\")"
   ]
  },
  {
   "cell_type": "code",
   "execution_count": 114,
   "metadata": {
    "collapsed": false
   },
   "outputs": [
    {
     "data": {
      "text/html": [
       "<div>\n",
       "<table border=\"1\" class=\"dataframe\">\n",
       "  <thead>\n",
       "    <tr style=\"text-align: right;\">\n",
       "      <th></th>\n",
       "      <th>APR DRG Description</th>\n",
       "      <th>cath counts per dx</th>\n",
       "    </tr>\n",
       "  </thead>\n",
       "  <tbody>\n",
       "    <tr>\n",
       "      <th>0</th>\n",
       "      <td>PERCUTANEOUS CARDIOVASCULAR PROCEDURES W/O AMI</td>\n",
       "      <td>87866</td>\n",
       "    </tr>\n",
       "    <tr>\n",
       "      <th>1</th>\n",
       "      <td>PERCUTANEOUS CORONARY INTERVENTION W/O AMI</td>\n",
       "      <td>49533</td>\n",
       "    </tr>\n",
       "    <tr>\n",
       "      <th>2</th>\n",
       "      <td>CARDIAC CATHETERIZATION FOR ISCHEMIC HEART DIS...</td>\n",
       "      <td>46292</td>\n",
       "    </tr>\n",
       "    <tr>\n",
       "      <th>3</th>\n",
       "      <td>PERCUTANEOUS CORONARY INTERVENTION W AMI</td>\n",
       "      <td>38496</td>\n",
       "    </tr>\n",
       "    <tr>\n",
       "      <th>4</th>\n",
       "      <td>PERCUTANEOUS CARDIOVASCULAR PROCEDURES W AMI</td>\n",
       "      <td>34982</td>\n",
       "    </tr>\n",
       "    <tr>\n",
       "      <th>5</th>\n",
       "      <td>CARDIAC CATHETERIZATION FOR OTHER NON-CORONARY...</td>\n",
       "      <td>33321</td>\n",
       "    </tr>\n",
       "    <tr>\n",
       "      <th>6</th>\n",
       "      <td>ACUTE MYOCARDIAL INFARCTION</td>\n",
       "      <td>29885</td>\n",
       "    </tr>\n",
       "    <tr>\n",
       "      <th>7</th>\n",
       "      <td>CARDIAC CATHETERIZATION W CIRC DISORD EXC ISCH...</td>\n",
       "      <td>23963</td>\n",
       "    </tr>\n",
       "    <tr>\n",
       "      <th>8</th>\n",
       "      <td>CARDIAC CATHETERIZATION FOR CORONARY ARTERY DI...</td>\n",
       "      <td>23654</td>\n",
       "    </tr>\n",
       "    <tr>\n",
       "      <th>9</th>\n",
       "      <td>MODERATELY EXTENSIVE PROCEDURE UNRELATED TO PR...</td>\n",
       "      <td>1851</td>\n",
       "    </tr>\n",
       "    <tr>\n",
       "      <th>10</th>\n",
       "      <td>CHRONIC OBSTRUCTIVE PULMONARY DISEASE</td>\n",
       "      <td>1554</td>\n",
       "    </tr>\n",
       "    <tr>\n",
       "      <th>11</th>\n",
       "      <td>OTHER ESOPHAGEAL DISORDERS</td>\n",
       "      <td>1010</td>\n",
       "    </tr>\n",
       "    <tr>\n",
       "      <th>12</th>\n",
       "      <td>CARDIAC DEFIBRILLATOR &amp; HEART ASSIST IMPLANT</td>\n",
       "      <td>980</td>\n",
       "    </tr>\n",
       "    <tr>\n",
       "      <th>13</th>\n",
       "      <td>SEPTICEMIA &amp; DISSEMINATED INFECTIONS</td>\n",
       "      <td>771</td>\n",
       "    </tr>\n",
       "    <tr>\n",
       "      <th>14</th>\n",
       "      <td>TOXIC EFFECTS OF NON-MEDICINAL SUBSTANCES</td>\n",
       "      <td>685</td>\n",
       "    </tr>\n",
       "  </tbody>\n",
       "</table>\n",
       "</div>"
      ],
      "text/plain": [
       "                                  APR DRG Description  cath counts per dx\n",
       "0      PERCUTANEOUS CARDIOVASCULAR PROCEDURES W/O AMI               87866\n",
       "1          PERCUTANEOUS CORONARY INTERVENTION W/O AMI               49533\n",
       "2   CARDIAC CATHETERIZATION FOR ISCHEMIC HEART DIS...               46292\n",
       "3            PERCUTANEOUS CORONARY INTERVENTION W AMI               38496\n",
       "4        PERCUTANEOUS CARDIOVASCULAR PROCEDURES W AMI               34982\n",
       "5   CARDIAC CATHETERIZATION FOR OTHER NON-CORONARY...               33321\n",
       "6                         ACUTE MYOCARDIAL INFARCTION               29885\n",
       "7   CARDIAC CATHETERIZATION W CIRC DISORD EXC ISCH...               23963\n",
       "8   CARDIAC CATHETERIZATION FOR CORONARY ARTERY DI...               23654\n",
       "9   MODERATELY EXTENSIVE PROCEDURE UNRELATED TO PR...                1851\n",
       "10              CHRONIC OBSTRUCTIVE PULMONARY DISEASE                1554\n",
       "11                         OTHER ESOPHAGEAL DISORDERS                1010\n",
       "12       CARDIAC DEFIBRILLATOR & HEART ASSIST IMPLANT                 980\n",
       "13               SEPTICEMIA & DISSEMINATED INFECTIONS                 771\n",
       "14          TOXIC EFFECTS OF NON-MEDICINAL SUBSTANCES                 685"
      ]
     },
     "execution_count": 114,
     "metadata": {},
     "output_type": "execute_result"
    }
   ],
   "source": [
    "# cath counts per dx - top 15\n",
    "dx_cath_df.head(15)"
   ]
  },
  {
   "cell_type": "markdown",
   "metadata": {},
   "source": [
    "# Procedures of interest"
   ]
  },
  {
   "cell_type": "markdown",
   "metadata": {},
   "source": [
    "PERCUTANEOUS CARDIOVASCULAR PROCEDURES W/O AMI\n",
    "\n",
    "PERCUTANEOUS CORONARY INTERVENTION W/O AMI\n",
    "\n",
    "CARDIAC CATHETERIZATION FOR ISCHEMIC HEART DISEASE\n",
    "\n",
    "PERCUTANEOUS CORONARY INTERVENTION W AMI\n",
    "\n",
    "PERCUTANEOUS CARDIOVASCULAR PROCEDURES W AMI\n",
    "\n",
    "ACUTE MYOCARDIAL INFARCTION\n",
    "\n",
    "CARDIAC CATHETERIZATION W CIRC DISORD EXC ISCHEMIC HEART DISEASE\n",
    "\n",
    "CARDIAC CATHETERIZATION FOR CORONARY ARTERY DISEASE\n",
    "\n",
    "*****************\n",
    "\n",
    "Exclude: \n",
    "CARDIAC CATHETERIZATION FOR OTHER NON-CORONARY CONDITIONS"
   ]
  },
  {
   "cell_type": "code",
   "execution_count": 115,
   "metadata": {
    "collapsed": false
   },
   "outputs": [],
   "source": [
    "# Dx of CAD\n",
    "CAD_dx_list = [\"PERCUTANEOUS CARDIOVASCULAR PROCEDURES W/O AMI\",\n",
    "\"PERCUTANEOUS CORONARY INTERVENTION W/O AMI\",\n",
    "\"CARDIAC CATHETERIZATION FOR ISCHEMIC HEART DISEASE\",\n",
    "\"PERCUTANEOUS CORONARY INTERVENTION W AMI\",\n",
    "\"PERCUTANEOUS CARDIOVASCULAR PROCEDURES W AMI\",\n",
    "#\"CARDIAC CATHETERIZATION FOR OTHER NON-CORONARY CONDITIONS\",\n",
    "\"ACUTE MYOCARDIAL INFARCTION\",\n",
    "\"CARDIAC CATHETERIZATION W CIRC DISORD EXC ISCHEMIC HEART DISEASE\",\n",
    "\"CARDIAC CATHETERIZATION FOR CORONARY ARTERY DISEASE\"]\n",
    "\n",
    "# subset of dataset where caths were done for CAD; dataset of interest for our analysis\n",
    "CAD_cath_df = cath_df[cath_df[\"APR DRG Description\"].isin(CAD_dx_list)]"
   ]
  },
  {
   "cell_type": "code",
   "execution_count": 116,
   "metadata": {
    "collapsed": false
   },
   "outputs": [],
   "source": [
    "# df of hospitals that did caths for CAD diagnoses\n",
    "hospital_df = pd.DataFrame(CAD_cath_df[\"Facility Name\"].unique())\n",
    "hospital_df = hospital_df.rename(columns={0 : \"hospitals\"}).sort_values(by=\"hospitals\").reset_index(drop=True)\n",
    "\n",
    "# save to CSV file\n",
    "hospital_df.to_csv(\"hospital_list.csv\")"
   ]
  },
  {
   "cell_type": "code",
   "execution_count": 117,
   "metadata": {
    "collapsed": false
   },
   "outputs": [],
   "source": [
    "# caths_per_site_df\n",
    "caths_per_site_df = CAD_cath_df.groupby(\"Facility Name\").size().sort_values(\n",
    "    ascending=False).reset_index(\n",
    "    name=\"cath counts per hosp\")\n",
    "\n",
    "# store in CSV file\n",
    "caths_per_site_df.to_csv('caths_per_hospital.csv')"
   ]
  },
  {
   "cell_type": "code",
   "execution_count": 118,
   "metadata": {
    "collapsed": false
   },
   "outputs": [
    {
     "data": {
      "text/html": [
       "<div>\n",
       "<table border=\"1\" class=\"dataframe\">\n",
       "  <thead>\n",
       "    <tr style=\"text-align: right;\">\n",
       "      <th></th>\n",
       "      <th>Facility Name</th>\n",
       "      <th>cath counts per hosp</th>\n",
       "    </tr>\n",
       "  </thead>\n",
       "  <tbody>\n",
       "    <tr>\n",
       "      <th>0</th>\n",
       "      <td>MOUNT SINAI HOSPITAL</td>\n",
       "      <td>20214</td>\n",
       "    </tr>\n",
       "    <tr>\n",
       "      <th>1</th>\n",
       "      <td>NEW YORK PRESBYTERIAN HOSPITAL - COLUMBIA PRES...</td>\n",
       "      <td>18173</td>\n",
       "    </tr>\n",
       "    <tr>\n",
       "      <th>2</th>\n",
       "      <td>ST FRANCIS HOSPITAL</td>\n",
       "      <td>17114</td>\n",
       "    </tr>\n",
       "    <tr>\n",
       "      <th>3</th>\n",
       "      <td>LONG ISLAND JEWISH MEDICAL CENTER</td>\n",
       "      <td>13191</td>\n",
       "    </tr>\n",
       "    <tr>\n",
       "      <th>4</th>\n",
       "      <td>LENOX HILL HOSPITAL</td>\n",
       "      <td>13047</td>\n",
       "    </tr>\n",
       "    <tr>\n",
       "      <th>5</th>\n",
       "      <td>NORTH SHORE UNIVERSITY HOSPITAL</td>\n",
       "      <td>12597</td>\n",
       "    </tr>\n",
       "    <tr>\n",
       "      <th>6</th>\n",
       "      <td>ST JOSEPHS HOSPITAL HEALTH CENTER</td>\n",
       "      <td>10334</td>\n",
       "    </tr>\n",
       "    <tr>\n",
       "      <th>7</th>\n",
       "      <td>NEW YORK PRESBYTERIAN HOSPITAL - NEW YORK WEIL...</td>\n",
       "      <td>10263</td>\n",
       "    </tr>\n",
       "    <tr>\n",
       "      <th>8</th>\n",
       "      <td>ROCHESTER GENERAL HOSPITAL</td>\n",
       "      <td>9955</td>\n",
       "    </tr>\n",
       "    <tr>\n",
       "      <th>9</th>\n",
       "      <td>UNIVERSITY HOSPITAL</td>\n",
       "      <td>9652</td>\n",
       "    </tr>\n",
       "    <tr>\n",
       "      <th>10</th>\n",
       "      <td>BUFFALO GENERAL HOSPITAL</td>\n",
       "      <td>9342</td>\n",
       "    </tr>\n",
       "    <tr>\n",
       "      <th>11</th>\n",
       "      <td>MAIMONIDES MEDICAL CENTER</td>\n",
       "      <td>8515</td>\n",
       "    </tr>\n",
       "    <tr>\n",
       "      <th>12</th>\n",
       "      <td>WINTHROP-UNIVERSITY HOSPITAL</td>\n",
       "      <td>8042</td>\n",
       "    </tr>\n",
       "    <tr>\n",
       "      <th>13</th>\n",
       "      <td>STATEN ISLAND UNIVERSITY HOSP-NORTH</td>\n",
       "      <td>7523</td>\n",
       "    </tr>\n",
       "    <tr>\n",
       "      <th>14</th>\n",
       "      <td>STRONG MEMORIAL HOSPITAL</td>\n",
       "      <td>6488</td>\n",
       "    </tr>\n",
       "    <tr>\n",
       "      <th>15</th>\n",
       "      <td>NEW YORK METHODIST HOSPITAL</td>\n",
       "      <td>6368</td>\n",
       "    </tr>\n",
       "    <tr>\n",
       "      <th>16</th>\n",
       "      <td>MONTEFIORE MEDICAL CENTER - HENRY &amp; LUCY MOSES...</td>\n",
       "      <td>6308</td>\n",
       "    </tr>\n",
       "    <tr>\n",
       "      <th>17</th>\n",
       "      <td>NYU HOSPITALS CENTER</td>\n",
       "      <td>6084</td>\n",
       "    </tr>\n",
       "    <tr>\n",
       "      <th>18</th>\n",
       "      <td>GOOD SAMARITAN HOSPITAL MEDICAL CENTER</td>\n",
       "      <td>5256</td>\n",
       "    </tr>\n",
       "    <tr>\n",
       "      <th>19</th>\n",
       "      <td>MONTEFIORE MED CENTER - JACK D WEILER HOSP OF ...</td>\n",
       "      <td>5161</td>\n",
       "    </tr>\n",
       "  </tbody>\n",
       "</table>\n",
       "</div>"
      ],
      "text/plain": [
       "                                        Facility Name  cath counts per hosp\n",
       "0                                MOUNT SINAI HOSPITAL                 20214\n",
       "1   NEW YORK PRESBYTERIAN HOSPITAL - COLUMBIA PRES...                 18173\n",
       "2                                 ST FRANCIS HOSPITAL                 17114\n",
       "3                   LONG ISLAND JEWISH MEDICAL CENTER                 13191\n",
       "4                                 LENOX HILL HOSPITAL                 13047\n",
       "5                     NORTH SHORE UNIVERSITY HOSPITAL                 12597\n",
       "6                   ST JOSEPHS HOSPITAL HEALTH CENTER                 10334\n",
       "7   NEW YORK PRESBYTERIAN HOSPITAL - NEW YORK WEIL...                 10263\n",
       "8                          ROCHESTER GENERAL HOSPITAL                  9955\n",
       "9                                 UNIVERSITY HOSPITAL                  9652\n",
       "10                           BUFFALO GENERAL HOSPITAL                  9342\n",
       "11                          MAIMONIDES MEDICAL CENTER                  8515\n",
       "12                       WINTHROP-UNIVERSITY HOSPITAL                  8042\n",
       "13                STATEN ISLAND UNIVERSITY HOSP-NORTH                  7523\n",
       "14                           STRONG MEMORIAL HOSPITAL                  6488\n",
       "15                        NEW YORK METHODIST HOSPITAL                  6368\n",
       "16  MONTEFIORE MEDICAL CENTER - HENRY & LUCY MOSES...                  6308\n",
       "17                               NYU HOSPITALS CENTER                  6084\n",
       "18             GOOD SAMARITAN HOSPITAL MEDICAL CENTER                  5256\n",
       "19  MONTEFIORE MED CENTER - JACK D WEILER HOSP OF ...                  5161"
      ]
     },
     "execution_count": 118,
     "metadata": {},
     "output_type": "execute_result"
    }
   ],
   "source": [
    "# number of caths done per hospital\n",
    "caths_per_site_df.head(20)"
   ]
  },
  {
   "cell_type": "code",
   "execution_count": 119,
   "metadata": {
    "collapsed": false
   },
   "outputs": [],
   "source": [
    "# import fellow sites \n",
    "fellow_sites_df = pd.read_csv(\"fellowship_locations.csv\")"
   ]
  },
  {
   "cell_type": "code",
   "execution_count": 120,
   "metadata": {
    "collapsed": false
   },
   "outputs": [],
   "source": [
    "# Get array of fellow sites, cast as str type, make it upper case for matching\n",
    "fellow_sites = fellow_sites_df[fellow_sites_df['Fellows'] == 1]['Hospitals'].values\n",
    "fellow_sites = np.char.upper(fellow_sites.astype(str))"
   ]
  },
  {
   "cell_type": "code",
   "execution_count": 121,
   "metadata": {
    "collapsed": false,
    "scrolled": false
   },
   "outputs": [
    {
     "name": "stderr",
     "output_type": "stream",
     "text": [
      "C:\\Users\\samko\\Anaconda3\\lib\\site-packages\\ipykernel\\__main__.py:9: SettingWithCopyWarning: \n",
      "A value is trying to be set on a copy of a slice from a DataFrame.\n",
      "Try using .loc[row_indexer,col_indexer] = value instead\n",
      "\n",
      "See the caveats in the documentation: http://pandas.pydata.org/pandas-docs/stable/indexing.html#indexing-view-versus-copy\n"
     ]
    }
   ],
   "source": [
    "# helper function for labeling facilities as fellowship training sites \n",
    "def fellow_site_generator(df):\n",
    "    if df[\"Facility Name\"] in fellow_sites:\n",
    "        return True\n",
    "    else: \n",
    "        return False\n",
    "\n",
    "# add column to each entry indicating whether happened at institution where fellows work\n",
    "CAD_cath_df['Fellows'] = CAD_cath_df.apply(fellow_site_generator, axis=1)"
   ]
  },
  {
   "cell_type": "code",
   "execution_count": 122,
   "metadata": {
    "collapsed": false
   },
   "outputs": [
    {
     "name": "stderr",
     "output_type": "stream",
     "text": [
      "C:\\Users\\samko\\Anaconda3\\lib\\site-packages\\ipykernel\\__main__.py:2: SettingWithCopyWarning: \n",
      "A value is trying to be set on a copy of a slice from a DataFrame.\n",
      "Try using .loc[row_indexer,col_indexer] = value instead\n",
      "\n",
      "See the caveats in the documentation: http://pandas.pydata.org/pandas-docs/stable/indexing.html#indexing-view-versus-copy\n",
      "  from ipykernel import kernelapp as app\n"
     ]
    }
   ],
   "source": [
    "# helper column for counts\n",
    "CAD_cath_df['counts'] = CAD_cath_df.apply(lambda x: 1, axis=1)"
   ]
  },
  {
   "cell_type": "code",
   "execution_count": 123,
   "metadata": {
    "collapsed": false
   },
   "outputs": [],
   "source": [
    "# clean CAD_cath_df\n",
    "CAD_cath_df = CAD_cath_df.reset_index().drop(['index', 'Unnamed: 0'], 1)\n",
    "\n",
    "# need to remove instances where LOS > 120 days; complicates analysis...\n",
    "# this is too bad becaue they were interesting visits\n",
    "# list of 18 occurances where it happened\n",
    "LOS_too_long = CAD_cath_df[CAD_cath_df['Length of Stay'] == \"120 +\"]\n",
    "\n",
    "# update df to remove those instances\n",
    "CAD_cath_df = CAD_cath_df[CAD_cath_df['Length of Stay'] != \"120 +\"]\n",
    "CAD_cath_df['Length of Stay'] = CAD_cath_df['Length of Stay'].values.astype(int)\n",
    "\n",
    "# helper function for converting strings to floats for total cost\n",
    "def make_float(x):\n",
    "    if type(x) == str:\n",
    "        x = float(x.replace(\",\",\"\"))\n",
    "    return x\n",
    "\n",
    "# make strings floats in cost column\n",
    "CAD_cath_df['Total Costs'] = CAD_cath_df['Total Costs'].apply(make_float)"
   ]
  },
  {
   "cell_type": "code",
   "execution_count": 124,
   "metadata": {
    "collapsed": true
   },
   "outputs": [],
   "source": [
    "# make a fellows and non_fellows separate df's\n",
    "fellows_df = CAD_cath_df[CAD_cath_df[\"Fellows\"] == True]\n",
    "non_fellows_df = CAD_cath_df[CAD_cath_df[\"Fellows\"] == False]"
   ]
  },
  {
   "cell_type": "code",
   "execution_count": 125,
   "metadata": {
    "collapsed": false
   },
   "outputs": [
    {
     "data": {
      "text/html": [
       "<div>\n",
       "<table border=\"1\" class=\"dataframe\">\n",
       "  <thead>\n",
       "    <tr style=\"text-align: right;\">\n",
       "      <th>Fellows</th>\n",
       "      <th>False</th>\n",
       "      <th>True</th>\n",
       "    </tr>\n",
       "    <tr>\n",
       "      <th>APR DRG Description</th>\n",
       "      <th></th>\n",
       "      <th></th>\n",
       "    </tr>\n",
       "  </thead>\n",
       "  <tbody>\n",
       "    <tr>\n",
       "      <th>ACUTE MYOCARDIAL INFARCTION</th>\n",
       "      <td>13746</td>\n",
       "      <td>16138</td>\n",
       "    </tr>\n",
       "    <tr>\n",
       "      <th>CARDIAC CATHETERIZATION FOR CORONARY ARTERY DISEASE</th>\n",
       "      <td>8810</td>\n",
       "      <td>14836</td>\n",
       "    </tr>\n",
       "    <tr>\n",
       "      <th>CARDIAC CATHETERIZATION FOR ISCHEMIC HEART DISEASE</th>\n",
       "      <td>19777</td>\n",
       "      <td>26514</td>\n",
       "    </tr>\n",
       "    <tr>\n",
       "      <th>CARDIAC CATHETERIZATION W CIRC DISORD EXC ISCHEMIC HEART DISEASE</th>\n",
       "      <td>9399</td>\n",
       "      <td>14562</td>\n",
       "    </tr>\n",
       "    <tr>\n",
       "      <th>PERCUTANEOUS CARDIOVASCULAR PROCEDURES W AMI</th>\n",
       "      <td>13936</td>\n",
       "      <td>21044</td>\n",
       "    </tr>\n",
       "    <tr>\n",
       "      <th>PERCUTANEOUS CARDIOVASCULAR PROCEDURES W/O AMI</th>\n",
       "      <td>19153</td>\n",
       "      <td>68712</td>\n",
       "    </tr>\n",
       "    <tr>\n",
       "      <th>PERCUTANEOUS CORONARY INTERVENTION W AMI</th>\n",
       "      <td>15975</td>\n",
       "      <td>22519</td>\n",
       "    </tr>\n",
       "    <tr>\n",
       "      <th>PERCUTANEOUS CORONARY INTERVENTION W/O AMI</th>\n",
       "      <td>10116</td>\n",
       "      <td>39416</td>\n",
       "    </tr>\n",
       "  </tbody>\n",
       "</table>\n",
       "</div>"
      ],
      "text/plain": [
       "Fellows                                             False  True \n",
       "APR DRG Description                                             \n",
       "ACUTE MYOCARDIAL INFARCTION                         13746  16138\n",
       "CARDIAC CATHETERIZATION FOR CORONARY ARTERY DIS...   8810  14836\n",
       "CARDIAC CATHETERIZATION FOR ISCHEMIC HEART DISEASE  19777  26514\n",
       "CARDIAC CATHETERIZATION W CIRC DISORD EXC ISCHE...   9399  14562\n",
       "PERCUTANEOUS CARDIOVASCULAR PROCEDURES W AMI        13936  21044\n",
       "PERCUTANEOUS CARDIOVASCULAR PROCEDURES W/O AMI      19153  68712\n",
       "PERCUTANEOUS CORONARY INTERVENTION W AMI            15975  22519\n",
       "PERCUTANEOUS CORONARY INTERVENTION W/O AMI          10116  39416"
      ]
     },
     "execution_count": 125,
     "metadata": {},
     "output_type": "execute_result"
    }
   ],
   "source": [
    "# table showing number of caths per diagnosis depending on whether fellow site or non-fellow site\n",
    "count_table = pd.pivot_table(CAD_cath_df,\n",
    "                            values=\"counts\", \n",
    "                             index='APR DRG Description',\n",
    "                              columns=\"Fellows\",\n",
    "                              aggfunc=np.sum)\n",
    "count_table"
   ]
  },
  {
   "cell_type": "code",
   "execution_count": 126,
   "metadata": {
    "collapsed": false
   },
   "outputs": [],
   "source": [
    "def stat_generator(df, outcome):\n",
    "    \n",
    "    outcome_df = pd.DataFrame(columns=['count', \n",
    "                                     'mean',\n",
    "                                       'median',\n",
    "                                     'std',\n",
    "                                     'max', \n",
    "                                     'min'])\n",
    "    \n",
    "    for status in df['Fellows'].unique():\n",
    "        series = df[df['Fellows'] == status][outcome]\n",
    "        count = len(series)\n",
    "        avg = series.mean()\n",
    "        median = series.median()\n",
    "        std = series.std()\n",
    "        max_outcome = series.max()\n",
    "        min_outcome = series.min()\n",
    "        if status == True:\n",
    "            outcome_df.loc[outcome + \" w/ Fellows\", :] = count, avg, median, std, max_outcome, min_outcome\n",
    "        else: \n",
    "            outcome_df.loc[outcome + \" w/o Fellows\", :] = count, avg, median, std, max_outcome, min_outcome\n",
    "    return outcome_df\n",
    "        "
   ]
  },
  {
   "cell_type": "code",
   "execution_count": 127,
   "metadata": {
    "collapsed": false
   },
   "outputs": [
    {
     "data": {
      "text/html": [
       "<div>\n",
       "<table border=\"1\" class=\"dataframe\">\n",
       "  <thead>\n",
       "    <tr style=\"text-align: right;\">\n",
       "      <th></th>\n",
       "      <th>count</th>\n",
       "      <th>mean</th>\n",
       "      <th>median</th>\n",
       "      <th>std</th>\n",
       "      <th>max</th>\n",
       "      <th>min</th>\n",
       "    </tr>\n",
       "  </thead>\n",
       "  <tbody>\n",
       "    <tr>\n",
       "      <th>Length of Stay w/o Fellows</th>\n",
       "      <td>110912</td>\n",
       "      <td>3.29521</td>\n",
       "      <td>2</td>\n",
       "      <td>3.30057</td>\n",
       "      <td>103</td>\n",
       "      <td>1</td>\n",
       "    </tr>\n",
       "    <tr>\n",
       "      <th>Length of Stay w/ Fellows</th>\n",
       "      <td>223741</td>\n",
       "      <td>3.2333</td>\n",
       "      <td>2</td>\n",
       "      <td>4.08412</td>\n",
       "      <td>117</td>\n",
       "      <td>1</td>\n",
       "    </tr>\n",
       "  </tbody>\n",
       "</table>\n",
       "</div>"
      ],
      "text/plain": [
       "                             count     mean median      std  max min\n",
       "Length of Stay w/o Fellows  110912  3.29521      2  3.30057  103   1\n",
       "Length of Stay w/ Fellows   223741   3.2333      2  4.08412  117   1"
      ]
     },
     "execution_count": 127,
     "metadata": {},
     "output_type": "execute_result"
    }
   ],
   "source": [
    "stat_generator(CAD_cath_df, 'Length of Stay')"
   ]
  },
  {
   "cell_type": "code",
   "execution_count": 128,
   "metadata": {
    "collapsed": false,
    "scrolled": false
   },
   "outputs": [
    {
     "data": {
      "image/png": "[encoded data removed]",
      "text/plain": [
       "<matplotlib.figure.Figure at 0x25f8a20f438>"
      ]
     },
     "metadata": {},
     "output_type": "display_data"
    }
   ],
   "source": [
    "# Normed histogram of LOS by fellow vs non-fellow institutions\n",
    "bins = np.arange(0, 120, 1)\n",
    "plt.figure(1, figsize=(15,10))\n",
    "plt.hist(fellows_df[\"Length of Stay\"], bins=bins, histtype='step', label=\"Fellows\", color='blue', normed=True)\n",
    "plt.hist(non_fellows_df[\"Length of Stay\"], bins=bins, histtype='step', label=\"Non-fellows\", color='orange', normed=True)\n",
    "plt.xlabel(\"LOS\")\n",
    "plt.ylabel(\"Number of hospitalizations\")\n",
    "plt.title(\"Histogram of number of LOS\")\n",
    "plt.legend()\n",
    "plt.show()"
   ]
  },
  {
   "cell_type": "code",
   "execution_count": 131,
   "metadata": {
    "collapsed": false,
    "scrolled": true
   },
   "outputs": [
    {
     "data": {
      "text/html": [
       "<div>\n",
       "<table border=\"1\" class=\"dataframe\">\n",
       "  <thead>\n",
       "    <tr style=\"text-align: right;\">\n",
       "      <th></th>\n",
       "      <th>count</th>\n",
       "      <th>mean</th>\n",
       "      <th>median</th>\n",
       "      <th>std</th>\n",
       "      <th>max</th>\n",
       "      <th>min</th>\n",
       "    </tr>\n",
       "  </thead>\n",
       "  <tbody>\n",
       "    <tr>\n",
       "      <th>Total Costs w/o Fellows</th>\n",
       "      <td>110912</td>\n",
       "      <td>13165.7</td>\n",
       "      <td>11114.6</td>\n",
       "      <td>9642.6</td>\n",
       "      <td>221728</td>\n",
       "      <td>0.29</td>\n",
       "    </tr>\n",
       "    <tr>\n",
       "      <th>Total Costs w/ Fellows</th>\n",
       "      <td>223741</td>\n",
       "      <td>16918.3</td>\n",
       "      <td>13136.2</td>\n",
       "      <td>16078.5</td>\n",
       "      <td>803085</td>\n",
       "      <td>770.27</td>\n",
       "    </tr>\n",
       "  </tbody>\n",
       "</table>\n",
       "</div>"
      ],
      "text/plain": [
       "                          count     mean   median      std     max     min\n",
       "Total Costs w/o Fellows  110912  13165.7  11114.6   9642.6  221728    0.29\n",
       "Total Costs w/ Fellows   223741  16918.3  13136.2  16078.5  803085  770.27"
      ]
     },
     "execution_count": 131,
     "metadata": {},
     "output_type": "execute_result"
    }
   ],
   "source": [
    "stat_generator(CAD_cath_df, \"Total Costs\").to_csv('all_dx_total_costs.csv')\n",
    "stat_generator(CAD_cath_df, \"Total Costs\")"
   ]
  },
  {
   "cell_type": "code",
   "execution_count": 132,
   "metadata": {
    "collapsed": false
   },
   "outputs": [
    {
     "data": {
      "image/png": "[encoded data removed]",
      "text/plain": [
       "<matplotlib.figure.Figure at 0x25f9abb70b8>"
      ]
     },
     "metadata": {},
     "output_type": "display_data"
    }
   ],
   "source": [
    "# Normed histogram of LOS by fellow vs non-fellow institutions\n",
    "bins = np.arange(0, 800000, 1000)\n",
    "plt.figure(1, figsize=(15,10))\n",
    "plt.hist(fellows_df[\"Total Costs\"], bins=bins,histtype='step', label=\"Fellows\", color='blue', normed=True)\n",
    "plt.hist(non_fellows_df[\"Total Costs\"], bins=bins, histtype='step', label=\"Non-fellows\", color='orange', normed=True)\n",
    "plt.xlabel(\"LOS\")\n",
    "plt.ylabel(\"Number of hospitalizations\")\n",
    "plt.title(\"Histogram of number of Total Costs\")\n",
    "plt.legend()\n",
    "plt.show()"
   ]
  },
  {
   "cell_type": "markdown",
   "metadata": {},
   "source": [
    "Want to get length of stay\n",
    "    * average\n",
    "    * std\n",
    "    * max\n",
    "    * min\n",
    "    * median\n",
    "    * histogram\n",
    "    * normally distributed?\n",
    "    \n",
    "Want to get total charges\n",
    "    * avg\n",
    "    * std\n",
    "    * max\n",
    "    * min\n",
    "    * histogram\n",
    "    * normally distributed?\n",
    "    \n",
    "Death rates\n",
    "    * stratify off of severity of illness\n",
    "    * emergent / urgent \n"
   ]
  },
  {
   "cell_type": "code",
   "execution_count": 86,
   "metadata": {
    "collapsed": false
   },
   "outputs": [
    {
     "data": {
      "text/html": [
       "<div>\n",
       "<table border=\"1\" class=\"dataframe\">\n",
       "  <thead>\n",
       "    <tr style=\"text-align: right;\">\n",
       "      <th>Fellows</th>\n",
       "      <th>False</th>\n",
       "      <th>True</th>\n",
       "    </tr>\n",
       "    <tr>\n",
       "      <th>APR DRG Description</th>\n",
       "      <th></th>\n",
       "      <th></th>\n",
       "    </tr>\n",
       "  </thead>\n",
       "  <tbody>\n",
       "    <tr>\n",
       "      <th>ACUTE MYOCARDIAL INFARCTION</th>\n",
       "      <td>13746</td>\n",
       "      <td>16138</td>\n",
       "    </tr>\n",
       "    <tr>\n",
       "      <th>CARDIAC CATHETERIZATION FOR CORONARY ARTERY DISEASE</th>\n",
       "      <td>8810</td>\n",
       "      <td>14836</td>\n",
       "    </tr>\n",
       "    <tr>\n",
       "      <th>CARDIAC CATHETERIZATION FOR ISCHEMIC HEART DISEASE</th>\n",
       "      <td>19777</td>\n",
       "      <td>26514</td>\n",
       "    </tr>\n",
       "    <tr>\n",
       "      <th>CARDIAC CATHETERIZATION W CIRC DISORD EXC ISCHEMIC HEART DISEASE</th>\n",
       "      <td>9399</td>\n",
       "      <td>14562</td>\n",
       "    </tr>\n",
       "    <tr>\n",
       "      <th>PERCUTANEOUS CARDIOVASCULAR PROCEDURES W AMI</th>\n",
       "      <td>13936</td>\n",
       "      <td>21044</td>\n",
       "    </tr>\n",
       "    <tr>\n",
       "      <th>PERCUTANEOUS CARDIOVASCULAR PROCEDURES W/O AMI</th>\n",
       "      <td>19153</td>\n",
       "      <td>68712</td>\n",
       "    </tr>\n",
       "    <tr>\n",
       "      <th>PERCUTANEOUS CORONARY INTERVENTION W AMI</th>\n",
       "      <td>15975</td>\n",
       "      <td>22519</td>\n",
       "    </tr>\n",
       "    <tr>\n",
       "      <th>PERCUTANEOUS CORONARY INTERVENTION W/O AMI</th>\n",
       "      <td>10116</td>\n",
       "      <td>39416</td>\n",
       "    </tr>\n",
       "  </tbody>\n",
       "</table>\n",
       "</div>"
      ],
      "text/plain": [
       "Fellows                                             False  True \n",
       "APR DRG Description                                             \n",
       "ACUTE MYOCARDIAL INFARCTION                         13746  16138\n",
       "CARDIAC CATHETERIZATION FOR CORONARY ARTERY DIS...   8810  14836\n",
       "CARDIAC CATHETERIZATION FOR ISCHEMIC HEART DISEASE  19777  26514\n",
       "CARDIAC CATHETERIZATION W CIRC DISORD EXC ISCHE...   9399  14562\n",
       "PERCUTANEOUS CARDIOVASCULAR PROCEDURES W AMI        13936  21044\n",
       "PERCUTANEOUS CARDIOVASCULAR PROCEDURES W/O AMI      19153  68712\n",
       "PERCUTANEOUS CORONARY INTERVENTION W AMI            15975  22519\n",
       "PERCUTANEOUS CORONARY INTERVENTION W/O AMI          10116  39416"
      ]
     },
     "execution_count": 86,
     "metadata": {},
     "output_type": "execute_result"
    }
   ],
   "source": [
    "# table of the num of caths done for each dx at fellow vs. non-fellow sites\n",
    "count_table = pd.pivot_table(CAD_cath_df,\n",
    "                            values=\"counts\", \n",
    "                             index='APR DRG Description',\n",
    "                              columns=\"Fellows\",\n",
    "                              aggfunc=np.sum)\n",
    "count_table"
   ]
  },
  {
   "cell_type": "code",
   "execution_count": 87,
   "metadata": {
    "collapsed": false
   },
   "outputs": [
    {
     "data": {
      "text/html": [
       "<div>\n",
       "<table border=\"1\" class=\"dataframe\">\n",
       "  <thead>\n",
       "    <tr style=\"text-align: right;\">\n",
       "      <th>Fellows</th>\n",
       "      <th>False</th>\n",
       "      <th>True</th>\n",
       "    </tr>\n",
       "    <tr>\n",
       "      <th>APR DRG Description</th>\n",
       "      <th></th>\n",
       "      <th></th>\n",
       "    </tr>\n",
       "  </thead>\n",
       "  <tbody>\n",
       "    <tr>\n",
       "      <th>ACUTE MYOCARDIAL INFARCTION</th>\n",
       "      <td>2.160920</td>\n",
       "      <td>2.273206</td>\n",
       "    </tr>\n",
       "    <tr>\n",
       "      <th>CARDIAC CATHETERIZATION FOR CORONARY ARTERY DISEASE</th>\n",
       "      <td>2.513280</td>\n",
       "      <td>2.596792</td>\n",
       "    </tr>\n",
       "    <tr>\n",
       "      <th>CARDIAC CATHETERIZATION FOR ISCHEMIC HEART DISEASE</th>\n",
       "      <td>1.660768</td>\n",
       "      <td>1.680395</td>\n",
       "    </tr>\n",
       "    <tr>\n",
       "      <th>CARDIAC CATHETERIZATION W CIRC DISORD EXC ISCHEMIC HEART DISEASE</th>\n",
       "      <td>2.462496</td>\n",
       "      <td>2.598132</td>\n",
       "    </tr>\n",
       "    <tr>\n",
       "      <th>PERCUTANEOUS CARDIOVASCULAR PROCEDURES W AMI</th>\n",
       "      <td>1.834458</td>\n",
       "      <td>1.961842</td>\n",
       "    </tr>\n",
       "    <tr>\n",
       "      <th>PERCUTANEOUS CARDIOVASCULAR PROCEDURES W/O AMI</th>\n",
       "      <td>1.662351</td>\n",
       "      <td>1.623908</td>\n",
       "    </tr>\n",
       "    <tr>\n",
       "      <th>PERCUTANEOUS CORONARY INTERVENTION W AMI</th>\n",
       "      <td>1.874429</td>\n",
       "      <td>2.005373</td>\n",
       "    </tr>\n",
       "    <tr>\n",
       "      <th>PERCUTANEOUS CORONARY INTERVENTION W/O AMI</th>\n",
       "      <td>1.802392</td>\n",
       "      <td>1.680105</td>\n",
       "    </tr>\n",
       "  </tbody>\n",
       "</table>\n",
       "</div>"
      ],
      "text/plain": [
       "Fellows                                                False     True \n",
       "APR DRG Description                                                   \n",
       "ACUTE MYOCARDIAL INFARCTION                         2.160920  2.273206\n",
       "CARDIAC CATHETERIZATION FOR CORONARY ARTERY DIS...  2.513280  2.596792\n",
       "CARDIAC CATHETERIZATION FOR ISCHEMIC HEART DISEASE  1.660768  1.680395\n",
       "CARDIAC CATHETERIZATION W CIRC DISORD EXC ISCHE...  2.462496  2.598132\n",
       "PERCUTANEOUS CARDIOVASCULAR PROCEDURES W AMI        1.834458  1.961842\n",
       "PERCUTANEOUS CARDIOVASCULAR PROCEDURES W/O AMI      1.662351  1.623908\n",
       "PERCUTANEOUS CORONARY INTERVENTION W AMI            1.874429  2.005373\n",
       "PERCUTANEOUS CORONARY INTERVENTION W/O AMI          1.802392  1.680105"
      ]
     },
     "execution_count": 87,
     "metadata": {},
     "output_type": "execute_result"
    }
   ],
   "source": [
    "#Average illness severity for each diangosis by fellow vs. non-fellow site\n",
    "illness_severity = pd.pivot_table(CAD_cath_df, \n",
    "                               values=\"APR Severity of Illness Code\",\n",
    "                               index='APR DRG Description',\n",
    "                              columns=\"Fellows\",\n",
    "                              aggfunc=np.mean)\n",
    "illness_severity"
   ]
  },
  {
   "cell_type": "code",
   "execution_count": 88,
   "metadata": {
    "collapsed": false
   },
   "outputs": [],
   "source": [
    "CAD_cath_df.groupby('Fellows').count()\n",
    "total_fellow = 223753\n",
    "total_no_fellows = 110918"
   ]
  },
  {
   "cell_type": "code",
   "execution_count": 90,
   "metadata": {
    "collapsed": false
   },
   "outputs": [],
   "source": [
    "# make list of tuples of dx and summary stat df's for both los and cost\n",
    "los_df_lst = []\n",
    "cost_df_lst =[]\n",
    "for dx in CAD_dx_list:\n",
    "    dx_df = CAD_cath_df[CAD_cath_df[\"APR DRG Description\"] == dx]\n",
    "    los = stat_generator(dx_df, 'Length of Stay')\n",
    "    cost = stat_generator(dx_df, 'Total Costs')\n",
    "    los_df_lst.append((dx, los))\n",
    "    cost_df_lst.append((dx, cost))\n",
    "    "
   ]
  },
  {
   "cell_type": "code",
   "execution_count": 91,
   "metadata": {
    "collapsed": false
   },
   "outputs": [
    {
     "name": "stdout",
     "output_type": "stream",
     "text": [
      "PERCUTANEOUS CARDIOVASCULAR PROCEDURES W/O AMI\n",
      "\n",
      "                            count     mean median      std max min\n",
      "Length of Stay w/ Fellows   68712  1.87458      1  2.38622  67   1\n",
      "Length of Stay w/o Fellows  19153  2.13147      1  2.32336  59   1\n",
      "\n",
      "\n",
      "PERCUTANEOUS CORONARY INTERVENTION W/O AMI\n",
      "\n",
      "                            count     mean median      std max min\n",
      "Length of Stay w/o Fellows  10116  2.71679      2  2.91565  58   1\n",
      "Length of Stay w/ Fellows   39416  2.15793      1   2.7559  84   1\n",
      "\n",
      "\n",
      "CARDIAC CATHETERIZATION FOR ISCHEMIC HEART DISEASE\n",
      "\n",
      "                            count     mean median      std max min\n",
      "Length of Stay w/o Fellows  19777  2.74501      2  2.60505  83   1\n",
      "Length of Stay w/ Fellows   26514  2.61243      2  2.46422  54   1\n",
      "\n",
      "\n",
      "PERCUTANEOUS CORONARY INTERVENTION W AMI\n",
      "\n",
      "                            count     mean median      std max min\n",
      "Length of Stay w/o Fellows  15975  3.27036      3  2.93613  66   1\n",
      "Length of Stay w/ Fellows   22519  3.97606      3  4.10441  90   1\n",
      "\n",
      "\n",
      "PERCUTANEOUS CARDIOVASCULAR PROCEDURES W AMI\n",
      "\n",
      "                            count     mean median      std max min\n",
      "Length of Stay w/ Fellows   21044  3.94982      3  3.84995  87   1\n",
      "Length of Stay w/o Fellows  13936  3.37873      3  3.00344  93   1\n",
      "\n",
      "\n",
      "ACUTE MYOCARDIAL INFARCTION\n",
      "\n",
      "                            count     mean median      std max min\n",
      "Length of Stay w/o Fellows  13746  3.94377      3  3.58577  72   1\n",
      "Length of Stay w/ Fellows   16138  4.77011      3  4.68851  95   1\n",
      "\n",
      "\n",
      "CARDIAC CATHETERIZATION W CIRC DISORD EXC ISCHEMIC HEART DISEASE\n",
      "\n",
      "                            count     mean median      std  max min\n",
      "Length of Stay w/o Fellows   9399  5.06245      4  4.71014  103   1\n",
      "Length of Stay w/ Fellows   14562  6.46944      5  6.60545  109   1\n",
      "\n",
      "\n",
      "CARDIAC CATHETERIZATION FOR CORONARY ARTERY DISEASE\n",
      "\n",
      "                            count     mean median      std  max min\n",
      "Length of Stay w/o Fellows   8810  4.74007      4  4.08607   65   1\n",
      "Length of Stay w/ Fellows   14836  6.50088      5  6.58971  117   1\n",
      "\n",
      "\n"
     ]
    }
   ],
   "source": [
    "# some print outs of LOS for fellow sites vs non-fellow sites per dx\n",
    "for x in los_df_lst:\n",
    "    print(x[0])\n",
    "    print()\n",
    "    print(x[1])\n",
    "    print()\n",
    "    print()"
   ]
  },
  {
   "cell_type": "code",
   "execution_count": 431,
   "metadata": {
    "collapsed": false
   },
   "outputs": [
    {
     "name": "stdout",
     "output_type": "stream",
     "text": [
      "PERCUTANEOUS CARDIOVASCULAR PROCEDURES W/O AMI\n",
      "\n",
      "                         count     mean   median      std     max     min\n",
      "Total Costs w/ Fellows   68712  15295.8  12631.5  11225.7  323236  890.36\n",
      "Total Costs w/o Fellows  19153    14681  13025.8  8048.54  114312  539.11\n",
      "\n",
      "\n",
      "PERCUTANEOUS CORONARY INTERVENTION W/O AMI\n",
      "\n",
      "                         count     mean   median      std     max     min\n",
      "Total Costs w/o Fellows  10116  16051.3    13941  9689.18  153810   48.77\n",
      "Total Costs w/ Fellows   39416  16226.3  13888.9  11197.1  446183  770.27\n",
      "\n",
      "\n",
      "CARDIAC CATHETERIZATION FOR ISCHEMIC HEART DISEASE\n",
      "\n",
      "                         count     mean   median      std     max     min\n",
      "Total Costs w/o Fellows  19777  7358.78   5865.1  5545.72  125318  559.01\n",
      "Total Costs w/ Fellows   26514  9200.97  6769.68  10043.3  434859  829.36\n",
      "\n",
      "\n",
      "PERCUTANEOUS CORONARY INTERVENTION W AMI\n",
      "\n",
      "                         count     mean   median      std     max      min\n",
      "Total Costs w/o Fellows  15975  17899.7  15450.9    10739  219593   358.07\n",
      "Total Costs w/ Fellows   22519  22962.5  18613.8  17980.3  649606  1465.64\n",
      "\n",
      "\n",
      "PERCUTANEOUS CARDIOVASCULAR PROCEDURES W AMI\n",
      "\n",
      "                         count     mean   median     std     max   min\n",
      "Total Costs w/ Fellows   21044  23312.6  18075.1   19156  493604  1314\n",
      "Total Costs w/o Fellows  13936  16955.8  14741.3  9990.9  164659  0.74\n",
      "\n",
      "\n",
      "ACUTE MYOCARDIAL INFARCTION\n",
      "\n",
      "                         count     mean   median      std     max     min\n",
      "Total Costs w/o Fellows  13746  10283.7  7886.92  8596.91  151881    0.29\n",
      "Total Costs w/ Fellows   16138  16302.9  11378.6  18517.9  525275  890.36\n",
      "\n",
      "\n",
      "CARDIAC CATHETERIZATION W CIRC DISORD EXC ISCHEMIC HEART DISEASE\n",
      "\n",
      "                         count     mean   median      std     max     min\n",
      "Total Costs w/o Fellows   9399  10998.9  8511.18  9094.35  198871  575.87\n",
      "Total Costs w/ Fellows   14562    19835  12612.1  26850.5  803085  890.36\n",
      "\n",
      "\n",
      "CARDIAC CATHETERIZATION FOR CORONARY ARTERY DISEASE\n",
      "\n",
      "                         count     mean   median      std     max     min\n",
      "Total Costs w/o Fellows   8810  11823.1  8990.26  10440.6  221728  145.15\n",
      "Total Costs w/ Fellows   14836  19624.7  13647.1  21461.5  434942  860.13\n",
      "\n",
      "\n"
     ]
    }
   ],
   "source": [
    "# some print outs for total costs in fellow sites vs non-fellow sites per dx\n",
    "for x in cost_df_lst:\n",
    "    print(x[0])\n",
    "    print()\n",
    "    print(x[1])\n",
    "    print()\n",
    "    print()"
   ]
  },
  {
   "cell_type": "code",
   "execution_count": 430,
   "metadata": {
    "collapsed": false,
    "scrolled": true
   },
   "outputs": [
    {
     "data": {
      "text/html": [
       "<div>\n",
       "<table border=\"1\" class=\"dataframe\">\n",
       "  <thead>\n",
       "    <tr style=\"text-align: right;\">\n",
       "      <th></th>\n",
       "      <th></th>\n",
       "      <th>APR Severity of Illness Code</th>\n",
       "    </tr>\n",
       "    <tr>\n",
       "      <th>Fellows</th>\n",
       "      <th>APR DRG Description</th>\n",
       "      <th></th>\n",
       "    </tr>\n",
       "  </thead>\n",
       "  <tbody>\n",
       "    <tr>\n",
       "      <th rowspan=\"8\" valign=\"top\">False</th>\n",
       "      <th>ACUTE MYOCARDIAL INFARCTION</th>\n",
       "      <td>2.160920</td>\n",
       "    </tr>\n",
       "    <tr>\n",
       "      <th>CARDIAC CATHETERIZATION FOR CORONARY ARTERY DISEASE</th>\n",
       "      <td>2.513280</td>\n",
       "    </tr>\n",
       "    <tr>\n",
       "      <th>CARDIAC CATHETERIZATION FOR ISCHEMIC HEART DISEASE</th>\n",
       "      <td>1.660768</td>\n",
       "    </tr>\n",
       "    <tr>\n",
       "      <th>CARDIAC CATHETERIZATION W CIRC DISORD EXC ISCHEMIC HEART DISEASE</th>\n",
       "      <td>2.462496</td>\n",
       "    </tr>\n",
       "    <tr>\n",
       "      <th>PERCUTANEOUS CARDIOVASCULAR PROCEDURES W AMI</th>\n",
       "      <td>1.834458</td>\n",
       "    </tr>\n",
       "    <tr>\n",
       "      <th>PERCUTANEOUS CARDIOVASCULAR PROCEDURES W/O AMI</th>\n",
       "      <td>1.662351</td>\n",
       "    </tr>\n",
       "    <tr>\n",
       "      <th>PERCUTANEOUS CORONARY INTERVENTION W AMI</th>\n",
       "      <td>1.874429</td>\n",
       "    </tr>\n",
       "    <tr>\n",
       "      <th>PERCUTANEOUS CORONARY INTERVENTION W/O AMI</th>\n",
       "      <td>1.802392</td>\n",
       "    </tr>\n",
       "    <tr>\n",
       "      <th rowspan=\"8\" valign=\"top\">True</th>\n",
       "      <th>ACUTE MYOCARDIAL INFARCTION</th>\n",
       "      <td>2.273206</td>\n",
       "    </tr>\n",
       "    <tr>\n",
       "      <th>CARDIAC CATHETERIZATION FOR CORONARY ARTERY DISEASE</th>\n",
       "      <td>2.596792</td>\n",
       "    </tr>\n",
       "    <tr>\n",
       "      <th>CARDIAC CATHETERIZATION FOR ISCHEMIC HEART DISEASE</th>\n",
       "      <td>1.680395</td>\n",
       "    </tr>\n",
       "    <tr>\n",
       "      <th>CARDIAC CATHETERIZATION W CIRC DISORD EXC ISCHEMIC HEART DISEASE</th>\n",
       "      <td>2.598132</td>\n",
       "    </tr>\n",
       "    <tr>\n",
       "      <th>PERCUTANEOUS CARDIOVASCULAR PROCEDURES W AMI</th>\n",
       "      <td>1.961842</td>\n",
       "    </tr>\n",
       "    <tr>\n",
       "      <th>PERCUTANEOUS CARDIOVASCULAR PROCEDURES W/O AMI</th>\n",
       "      <td>1.623908</td>\n",
       "    </tr>\n",
       "    <tr>\n",
       "      <th>PERCUTANEOUS CORONARY INTERVENTION W AMI</th>\n",
       "      <td>2.005373</td>\n",
       "    </tr>\n",
       "    <tr>\n",
       "      <th>PERCUTANEOUS CORONARY INTERVENTION W/O AMI</th>\n",
       "      <td>1.680105</td>\n",
       "    </tr>\n",
       "  </tbody>\n",
       "</table>\n",
       "</div>"
      ],
      "text/plain": [
       "                                                            APR Severity of Illness Code\n",
       "Fellows APR DRG Description                                                             \n",
       "False   ACUTE MYOCARDIAL INFARCTION                                             2.160920\n",
       "        CARDIAC CATHETERIZATION FOR CORONARY ARTERY DIS...                      2.513280\n",
       "        CARDIAC CATHETERIZATION FOR ISCHEMIC HEART DISEASE                      1.660768\n",
       "        CARDIAC CATHETERIZATION W CIRC DISORD EXC ISCHE...                      2.462496\n",
       "        PERCUTANEOUS CARDIOVASCULAR PROCEDURES W AMI                            1.834458\n",
       "        PERCUTANEOUS CARDIOVASCULAR PROCEDURES W/O AMI                          1.662351\n",
       "        PERCUTANEOUS CORONARY INTERVENTION W AMI                                1.874429\n",
       "        PERCUTANEOUS CORONARY INTERVENTION W/O AMI                              1.802392\n",
       "True    ACUTE MYOCARDIAL INFARCTION                                             2.273206\n",
       "        CARDIAC CATHETERIZATION FOR CORONARY ARTERY DIS...                      2.596792\n",
       "        CARDIAC CATHETERIZATION FOR ISCHEMIC HEART DISEASE                      1.680395\n",
       "        CARDIAC CATHETERIZATION W CIRC DISORD EXC ISCHE...                      2.598132\n",
       "        PERCUTANEOUS CARDIOVASCULAR PROCEDURES W AMI                            1.961842\n",
       "        PERCUTANEOUS CARDIOVASCULAR PROCEDURES W/O AMI                          1.623908\n",
       "        PERCUTANEOUS CORONARY INTERVENTION W AMI                                2.005373\n",
       "        PERCUTANEOUS CORONARY INTERVENTION W/O AMI                              1.680105"
      ]
     },
     "execution_count": 430,
     "metadata": {},
     "output_type": "execute_result"
    }
   ],
   "source": [
    "CAD_cath_df.groupby([\"Fellows\", \"APR DRG Description\"]).agg({\n",
    "    \"APR Severity of Illness Code\" : np.mean,\n",
    "})"
   ]
  },
  {
   "cell_type": "code",
   "execution_count": 174,
   "metadata": {
    "collapsed": false,
    "scrolled": true
   },
   "outputs": [
    {
     "data": {
      "text/html": [
       "<div>\n",
       "<table border=\"1\" class=\"dataframe\">\n",
       "  <thead>\n",
       "    <tr style=\"text-align: right;\">\n",
       "      <th></th>\n",
       "      <th>num_deaths</th>\n",
       "      <th>total_discharges</th>\n",
       "      <th>death_rate</th>\n",
       "      <th>sev_rate</th>\n",
       "    </tr>\n",
       "  </thead>\n",
       "  <tbody>\n",
       "    <tr>\n",
       "      <th>Non-fellow, severity index 1</th>\n",
       "      <td>13</td>\n",
       "      <td>40744</td>\n",
       "      <td>0.000319065</td>\n",
       "      <td>0.367354</td>\n",
       "    </tr>\n",
       "    <tr>\n",
       "      <th>Non-fellow, severity index 2</th>\n",
       "      <td>60</td>\n",
       "      <td>42190</td>\n",
       "      <td>0.00142214</td>\n",
       "      <td>0.380392</td>\n",
       "    </tr>\n",
       "    <tr>\n",
       "      <th>Non-fellow, severity index 3</th>\n",
       "      <td>214</td>\n",
       "      <td>23619</td>\n",
       "      <td>0.0090605</td>\n",
       "      <td>0.212953</td>\n",
       "    </tr>\n",
       "    <tr>\n",
       "      <th>Non-fellow, severity index 4</th>\n",
       "      <td>460</td>\n",
       "      <td>4359</td>\n",
       "      <td>0.105529</td>\n",
       "      <td>0.0393014</td>\n",
       "    </tr>\n",
       "    <tr>\n",
       "      <th>Fellow, severity index 1</th>\n",
       "      <td>11</td>\n",
       "      <td>88684</td>\n",
       "      <td>0.000124036</td>\n",
       "      <td>0.396369</td>\n",
       "    </tr>\n",
       "    <tr>\n",
       "      <th>Fellow, severity index 2</th>\n",
       "      <td>78</td>\n",
       "      <td>80842</td>\n",
       "      <td>0.000964845</td>\n",
       "      <td>0.36132</td>\n",
       "    </tr>\n",
       "    <tr>\n",
       "      <th>Fellow, severity index 3</th>\n",
       "      <td>331</td>\n",
       "      <td>45380</td>\n",
       "      <td>0.00729396</td>\n",
       "      <td>0.202824</td>\n",
       "    </tr>\n",
       "    <tr>\n",
       "      <th>Fellow, severity index 4</th>\n",
       "      <td>1042</td>\n",
       "      <td>8835</td>\n",
       "      <td>0.11794</td>\n",
       "      <td>0.0394876</td>\n",
       "    </tr>\n",
       "  </tbody>\n",
       "</table>\n",
       "</div>"
      ],
      "text/plain": [
       "                             num_deaths total_discharges   death_rate  \\\n",
       "Non-fellow, severity index 1         13            40744  0.000319065   \n",
       "Non-fellow, severity index 2         60            42190   0.00142214   \n",
       "Non-fellow, severity index 3        214            23619    0.0090605   \n",
       "Non-fellow, severity index 4        460             4359     0.105529   \n",
       "Fellow, severity index 1             11            88684  0.000124036   \n",
       "Fellow, severity index 2             78            80842  0.000964845   \n",
       "Fellow, severity index 3            331            45380   0.00729396   \n",
       "Fellow, severity index 4           1042             8835      0.11794   \n",
       "\n",
       "                               sev_rate  \n",
       "Non-fellow, severity index 1   0.367354  \n",
       "Non-fellow, severity index 2   0.380392  \n",
       "Non-fellow, severity index 3   0.212953  \n",
       "Non-fellow, severity index 4  0.0393014  \n",
       "Fellow, severity index 1       0.396369  \n",
       "Fellow, severity index 2        0.36132  \n",
       "Fellow, severity index 3       0.202824  \n",
       "Fellow, severity index 4      0.0394876  "
      ]
     },
     "execution_count": 174,
     "metadata": {},
     "output_type": "execute_result"
    }
   ],
   "source": [
    "severity_df = pd.DataFrame(columns=[\"severity_count\", \"total\", \"percentage\"])\n",
    "sev_totals = CAD_cath_df.groupby('Fellows')['counts'].sum().values\n",
    "\n",
    "death_rate_df = pd.DataFrame(columns=['num_deaths','total_discharges','death_rate', 'sev_rate'])\n",
    "gb = CAD_cath_df.groupby([\"Fellows\", 'APR Severity of Illness Code'])\n",
    "\n",
    "idx = 0\n",
    "for k, gp in gb:\n",
    "    sev_total = sev_totals[math.floor(idx/4)]\n",
    "    deaths = gp[gp['Patient Disposition'] == 'EXPIRED'].shape[0]\n",
    "    total_dcs = int(gp.shape[0])\n",
    "    death_rate = deaths / total_dcs\n",
    "    sev_rate = total_dcs / sev_total\n",
    "    if k[0] == False:\n",
    "        k = \"Non-fellow, severity index \" + str(k[1])\n",
    "    else:\n",
    "        k = \"Fellow, severity index \" + str(k[1])\n",
    "    death_rate_df.loc[str(k), :] = deaths, total_dcs, death_rate, sev_rate\n",
    "    idx += 1\n",
    "    \n",
    "death_rate_df"
   ]
  }
 ],
 "metadata": {
  "kernelspec": {
   "display_name": "Python 3",
   "language": "python",
   "name": "python3"
  },
  "language_info": {
   "codemirror_mode": {
    "name": "ipython",
    "version": 3
   },
   "file_extension": ".py",
   "mimetype": "text/x-python",
   "name": "python",
   "nbconvert_exporter": "python",
   "pygments_lexer": "ipython3",
   "version": "3.6.0"
  }
 },
 "nbformat": 4,
 "nbformat_minor": 2
}
