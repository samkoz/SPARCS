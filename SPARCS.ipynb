{
 "cells": [
  {
   "cell_type": "code",
   "execution_count": 1,
   "metadata": {
    "collapsed": true
   },
   "outputs": [],
   "source": [
    "%matplotlib inline \n",
    "import matplotlib.pyplot as plt\n",
    "from matplotlib.colors import LogNorm\n",
    "import numpy as np\n",
    "import pandas as pd\n",
    "from scipy import stats \n",
    "import math"
   ]
  },
  {
   "cell_type": "code",
   "execution_count": 4,
   "metadata": {
    "collapsed": false
   },
   "outputs": [],
   "source": [
    "# SPARCS data \n",
    "sparcs_df_14 = pd.read_csv(\"primary_data/NYSDOH_Hospital_Inpatient_Discharges_SPARCS_De-Identified_2014.csv\")\n",
    "sparcs_df_13 = pd.read_csv(\"primary_data/NYSDOH_Hospital_Inpatient_Discharges_SPARCS_De-Identified_2013.csv\")\n",
    "sparcs_df_12 = pd.read_csv(\"primary_data/NYSDOH_Hospital_Inpatient_Discharges_SPARCS_De-Identified_2012.csv\")\n",
    "sparcs_df_11 = pd.read_csv(\"primary_data/NYSDOH_Hospital_Inpatient_Discharges_SPARCS_De-Identified_2011.csv\")\n",
    "sparcs_df_10 = pd.read_csv(\"primary_data/NYSDOH_Hospital_Inpatient_Discharges_SPARCS_De-Identified_2010.csv\")\n",
    "sparcs_df_09 = pd.read_csv(\"primary_data/NYSDOH_Hospital_Inpatient_Discharges_SPARCS_De-Identified_2009.csv\")\n",
    "\n",
    "#merge years into one large data set\n",
    "frames = [sparcs_df_14, sparcs_df_13, sparcs_df_12, sparcs_df_11, sparcs_df_10, sparcs_df_09]\n",
    "sparcs_df = pd.concat(frames)\n",
    "\n",
    "# delete loaded spreadsheets to free up space\n",
    "del sparcs_df_14\n",
    "del sparcs_df_13\n",
    "del sparcs_df_12\n",
    "del sparcs_df_11\n",
    "del sparcs_df_10\n",
    "del sparcs_df_09\n",
    "del frames\n",
    "\n",
    "# save merged data file so don't have to do this again...\n",
    "sparcs_df.to_csv(\"primary_data/merged_data.csv\")"
   ]
  },
  {
   "cell_type": "code",
   "execution_count": 4,
   "metadata": {
    "collapsed": false
   },
   "outputs": [
    {
     "name": "stderr",
     "output_type": "stream",
     "text": [
      "C:\\Users\\samko\\Anaconda3\\lib\\site-packages\\IPython\\core\\interactiveshell.py:2717: DtypeWarning: Columns (24,36,38) have mixed types. Specify dtype option on import or set low_memory=False.\n",
      "  interactivity=interactivity, compiler=compiler, result=result)\n"
     ]
    }
   ],
   "source": [
    "# More data prep\n",
    "sparcs_df = pd.read_csv(\"primary_data/merged_data.csv\")"
   ]
  },
  {
   "cell_type": "code",
   "execution_count": 5,
   "metadata": {
    "collapsed": false
   },
   "outputs": [],
   "source": [
    "# define columns to drop\n",
    "cols_to_drop = ['APR MDC Code',\n",
    "       'APR MDC Description', 'APR Medical Surgical Description',\n",
    "       'APR Severity of Illness Description', 'Abortion Edit Indicator',\n",
    "       'Attending Provider License Number', 'Birth Weight',\n",
    "       'CCS Diagnosis Code', 'CCS Diagnosis Description','Emergency Department Indicator',\n",
    "       'Operating Certificate Number', 'Operating Provider License Number',\n",
    "       'Other Provider License Number','Payment Typology 2', 'Payment Typology 3']\n",
    "\n",
    "# delete columns that aren't used to speed up analysis\n",
    "for col in cols_to_drop: \n",
    "    sparcs_df.drop(col, 1, inplace=True)\n",
    "    \n",
    "# save filtered one so you don't have to do this again\n",
    "sparcs_df.to_csv(\"primary_data/filtered_merged_data.csv\")"
   ]
  },
  {
   "cell_type": "code",
   "execution_count": 9,
   "metadata": {
    "collapsed": true
   },
   "outputs": [],
   "source": [
    "# Start here for any repeat\n",
    "sparcs_df = pd.read_csv(\"primary_data/filtered_merged_data.csv\")"
   ]
  },
  {
   "cell_type": "code",
   "execution_count": 6,
   "metadata": {
    "collapsed": false
   },
   "outputs": [],
   "source": [
    "# df w/ procedure names w/  counts to find quantify number of caths\n",
    "proc_df = sparcs_df.groupby(\"CCS Procedure Description\").size().sort_values(\n",
    "    ascending=False).reset_index(\n",
    "    name=\"procedure counts\")\n",
    "\n",
    "# CSV of procedure names w/ counts\n",
    "proc_df.to_csv(\"procedure_counts.csv\")"
   ]
  },
  {
   "cell_type": "markdown",
   "metadata": {},
   "source": [
    "# Procedures of interest:\n",
    "DX CARDIAC CATHETERIZTN = 180058\n",
    "\n",
    "\n",
    "PERC TRANSLUM COR ANGIO = 206731\n"
   ]
  },
  {
   "cell_type": "code",
   "execution_count": 43,
   "metadata": {
    "collapsed": false,
    "scrolled": false
   },
   "outputs": [
    {
     "data": {
      "text/html": [
       "<div>\n",
       "<table border=\"1\" class=\"dataframe\">\n",
       "  <thead>\n",
       "    <tr style=\"text-align: right;\">\n",
       "      <th></th>\n",
       "      <th>CCS Procedure Description</th>\n",
       "      <th>procedure counts</th>\n",
       "    </tr>\n",
       "  </thead>\n",
       "  <tbody>\n",
       "    <tr>\n",
       "      <th>0</th>\n",
       "      <td>NO PROC</td>\n",
       "      <td>3822703</td>\n",
       "    </tr>\n",
       "    <tr>\n",
       "      <th>1</th>\n",
       "      <td>OTHER THERAPEUTIC PRCS</td>\n",
       "      <td>956934</td>\n",
       "    </tr>\n",
       "    <tr>\n",
       "      <th>2</th>\n",
       "      <td>CESAREAN SECTION</td>\n",
       "      <td>476255</td>\n",
       "    </tr>\n",
       "    <tr>\n",
       "      <th>3</th>\n",
       "      <td>PROPHYLACTIC VAC/INOCUL</td>\n",
       "      <td>447588</td>\n",
       "    </tr>\n",
       "    <tr>\n",
       "      <th>4</th>\n",
       "      <td>ALCO/DRUG REHAB/DETOX</td>\n",
       "      <td>415835</td>\n",
       "    </tr>\n",
       "    <tr>\n",
       "      <th>5</th>\n",
       "      <td>OT PRCS TO ASSIST DELIV</td>\n",
       "      <td>410972</td>\n",
       "    </tr>\n",
       "    <tr>\n",
       "      <th>6</th>\n",
       "      <td>RESP INTUB/MECH VENTIL</td>\n",
       "      <td>404932</td>\n",
       "    </tr>\n",
       "    <tr>\n",
       "      <th>7</th>\n",
       "      <td>REPAIR CUR OBS LACERATN</td>\n",
       "      <td>331283</td>\n",
       "    </tr>\n",
       "    <tr>\n",
       "      <th>8</th>\n",
       "      <td>CIRCUMCISION</td>\n",
       "      <td>313236</td>\n",
       "    </tr>\n",
       "    <tr>\n",
       "      <th>9</th>\n",
       "      <td>OPHTHALM-/OT-OLOGIC DX</td>\n",
       "      <td>309593</td>\n",
       "    </tr>\n",
       "    <tr>\n",
       "      <th>10</th>\n",
       "      <td>PSYCHO/PSYCHI EVAL/THER</td>\n",
       "      <td>305479</td>\n",
       "    </tr>\n",
       "    <tr>\n",
       "      <th>11</th>\n",
       "      <td>BLOOD TRANSFUSION</td>\n",
       "      <td>292703</td>\n",
       "    </tr>\n",
       "    <tr>\n",
       "      <th>12</th>\n",
       "      <td>DX ULTRASOUND HEART</td>\n",
       "      <td>217326</td>\n",
       "    </tr>\n",
       "    <tr>\n",
       "      <th>13</th>\n",
       "      <td>UP GASTRO ENDOSC/BIOPSY</td>\n",
       "      <td>208040</td>\n",
       "    </tr>\n",
       "    <tr>\n",
       "      <th>14</th>\n",
       "      <td>PERC TRANSLUM COR ANGIO</td>\n",
       "      <td>206731</td>\n",
       "    </tr>\n",
       "    <tr>\n",
       "      <th>15</th>\n",
       "      <td>COMP AXIAL TOMOGR (CT)</td>\n",
       "      <td>203646</td>\n",
       "    </tr>\n",
       "    <tr>\n",
       "      <th>16</th>\n",
       "      <td>ARTHROPLASTY KNEE</td>\n",
       "      <td>201868</td>\n",
       "    </tr>\n",
       "    <tr>\n",
       "      <th>17</th>\n",
       "      <td>DX CARDIAC CATHETERIZTN</td>\n",
       "      <td>180058</td>\n",
       "    </tr>\n",
       "    <tr>\n",
       "      <th>18</th>\n",
       "      <td>OTHER RESP THERAPY</td>\n",
       "      <td>176617</td>\n",
       "    </tr>\n",
       "    <tr>\n",
       "      <th>19</th>\n",
       "      <td>HIP REPLACEMENT,TOT/PRT</td>\n",
       "      <td>168719</td>\n",
       "    </tr>\n",
       "  </tbody>\n",
       "</table>\n",
       "</div>"
      ],
      "text/plain": [
       "   CCS Procedure Description  procedure counts\n",
       "0                    NO PROC           3822703\n",
       "1     OTHER THERAPEUTIC PRCS            956934\n",
       "2           CESAREAN SECTION            476255\n",
       "3    PROPHYLACTIC VAC/INOCUL            447588\n",
       "4      ALCO/DRUG REHAB/DETOX            415835\n",
       "5    OT PRCS TO ASSIST DELIV            410972\n",
       "6     RESP INTUB/MECH VENTIL            404932\n",
       "7    REPAIR CUR OBS LACERATN            331283\n",
       "8               CIRCUMCISION            313236\n",
       "9     OPHTHALM-/OT-OLOGIC DX            309593\n",
       "10   PSYCHO/PSYCHI EVAL/THER            305479\n",
       "11         BLOOD TRANSFUSION            292703\n",
       "12       DX ULTRASOUND HEART            217326\n",
       "13   UP GASTRO ENDOSC/BIOPSY            208040\n",
       "14   PERC TRANSLUM COR ANGIO            206731\n",
       "15    COMP AXIAL TOMOGR (CT)            203646\n",
       "16         ARTHROPLASTY KNEE            201868\n",
       "17   DX CARDIAC CATHETERIZTN            180058\n",
       "18        OTHER RESP THERAPY            176617\n",
       "19   HIP REPLACEMENT,TOT/PRT            168719"
      ]
     },
     "execution_count": 43,
     "metadata": {},
     "output_type": "execute_result"
    }
   ],
   "source": [
    "# top 20 most common procedures\n",
    "proc_df.head(20)"
   ]
  },
  {
   "cell_type": "code",
   "execution_count": 44,
   "metadata": {
    "collapsed": false
   },
   "outputs": [],
   "source": [
    "# df of all indivitual caths performed\n",
    "cath_df = sparcs_df[(sparcs_df[\"CCS Procedure Description\"].str.upper() == \"DX CARDIAC CATHETERIZTN\") |\n",
    "                   (sparcs_df[\"CCS Procedure Description\"].str.upper() == \"PERC TRANSLUM COR ANGIO\")]"
   ]
  },
  {
   "cell_type": "code",
   "execution_count": 48,
   "metadata": {
    "collapsed": false,
    "scrolled": true
   },
   "outputs": [
    {
     "name": "stderr",
     "output_type": "stream",
     "text": [
      "C:\\Users\\samko\\Anaconda3\\lib\\site-packages\\ipykernel\\__main__.py:2: SettingWithCopyWarning: \n",
      "A value is trying to be set on a copy of a slice from a DataFrame.\n",
      "Try using .loc[row_indexer,col_indexer] = value instead\n",
      "\n",
      "See the caveats in the documentation: http://pandas.pydata.org/pandas-docs/stable/indexing.html#indexing-view-versus-copy\n",
      "  from ipykernel import kernelapp as app\n",
      "C:\\Users\\samko\\Anaconda3\\lib\\site-packages\\ipykernel\\__main__.py:3: SettingWithCopyWarning: \n",
      "A value is trying to be set on a copy of a slice from a DataFrame.\n",
      "Try using .loc[row_indexer,col_indexer] = value instead\n",
      "\n",
      "See the caveats in the documentation: http://pandas.pydata.org/pandas-docs/stable/indexing.html#indexing-view-versus-copy\n",
      "  app.launch_new_instance()\n",
      "C:\\Users\\samko\\Anaconda3\\lib\\site-packages\\ipykernel\\__main__.py:4: SettingWithCopyWarning: \n",
      "A value is trying to be set on a copy of a slice from a DataFrame.\n",
      "Try using .loc[row_indexer,col_indexer] = value instead\n",
      "\n",
      "See the caveats in the documentation: http://pandas.pydata.org/pandas-docs/stable/indexing.html#indexing-view-versus-copy\n"
     ]
    }
   ],
   "source": [
    "# upper case columns for more accurate classification\n",
    "cath_df[\"APR DRG Description\"] = cath_df[\"APR DRG Description\"].str.upper()\n",
    "cath_df[\"Facility Name\"] = cath_df[\"Facility Name\"].str.upper()\n",
    "cath_df[\"Patient Disposition\"] = cath_df[\"Patient Disposition\"].str.upper()"
   ]
  },
  {
   "cell_type": "code",
   "execution_count": 50,
   "metadata": {
    "collapsed": false
   },
   "outputs": [],
   "source": [
    "# df of cath counts per diagnosis\n",
    "dx_cath_df = cath_df.groupby(\"APR DRG Description\").size().sort_values(\n",
    "    ascending=False).reset_index(\n",
    "    name=\"cath counts per dx\")\n",
    "\n",
    "# CSV of cath counts per diagnosis\n",
    "dx_cath_df.to_csv(\"cath_counts_per_dx.csv\")"
   ]
  },
  {
   "cell_type": "markdown",
   "metadata": {},
   "source": [
    "# DRG Descriptions of  Diagnoses of Interest\n",
    "\n",
    "Obtained cath counts per dx to see see which diagnoses were relevant to analysis"
   ]
  },
  {
   "cell_type": "code",
   "execution_count": 242,
   "metadata": {
    "collapsed": false,
    "scrolled": false
   },
   "outputs": [
    {
     "data": {
      "text/html": [
       "<div>\n",
       "<table border=\"1\" class=\"dataframe\">\n",
       "  <thead>\n",
       "    <tr style=\"text-align: right;\">\n",
       "      <th></th>\n",
       "      <th>APR DRG Description</th>\n",
       "      <th>cath counts per dx</th>\n",
       "    </tr>\n",
       "  </thead>\n",
       "  <tbody>\n",
       "    <tr>\n",
       "      <th>0</th>\n",
       "      <td>PERCUTANEOUS CARDIOVASCULAR PROCEDURES W/O AMI</td>\n",
       "      <td>87866</td>\n",
       "    </tr>\n",
       "    <tr>\n",
       "      <th>1</th>\n",
       "      <td>PERCUTANEOUS CORONARY INTERVENTION W/O AMI</td>\n",
       "      <td>49533</td>\n",
       "    </tr>\n",
       "    <tr>\n",
       "      <th>2</th>\n",
       "      <td>CARDIAC CATHETERIZATION FOR ISCHEMIC HEART DIS...</td>\n",
       "      <td>46292</td>\n",
       "    </tr>\n",
       "    <tr>\n",
       "      <th>3</th>\n",
       "      <td>PERCUTANEOUS CORONARY INTERVENTION W AMI</td>\n",
       "      <td>38496</td>\n",
       "    </tr>\n",
       "    <tr>\n",
       "      <th>4</th>\n",
       "      <td>PERCUTANEOUS CARDIOVASCULAR PROCEDURES W AMI</td>\n",
       "      <td>34982</td>\n",
       "    </tr>\n",
       "    <tr>\n",
       "      <th>5</th>\n",
       "      <td>CARDIAC CATHETERIZATION FOR OTHER NON-CORONARY...</td>\n",
       "      <td>33321</td>\n",
       "    </tr>\n",
       "    <tr>\n",
       "      <th>6</th>\n",
       "      <td>ACUTE MYOCARDIAL INFARCTION</td>\n",
       "      <td>29885</td>\n",
       "    </tr>\n",
       "    <tr>\n",
       "      <th>7</th>\n",
       "      <td>CARDIAC CATHETERIZATION W CIRC DISORD EXC ISCH...</td>\n",
       "      <td>23963</td>\n",
       "    </tr>\n",
       "    <tr>\n",
       "      <th>8</th>\n",
       "      <td>CARDIAC CATHETERIZATION FOR CORONARY ARTERY DI...</td>\n",
       "      <td>23654</td>\n",
       "    </tr>\n",
       "    <tr>\n",
       "      <th>9</th>\n",
       "      <td>MODERATELY EXTENSIVE PROCEDURE UNRELATED TO PR...</td>\n",
       "      <td>1851</td>\n",
       "    </tr>\n",
       "    <tr>\n",
       "      <th>10</th>\n",
       "      <td>CHRONIC OBSTRUCTIVE PULMONARY DISEASE</td>\n",
       "      <td>1554</td>\n",
       "    </tr>\n",
       "    <tr>\n",
       "      <th>11</th>\n",
       "      <td>OTHER ESOPHAGEAL DISORDERS</td>\n",
       "      <td>1010</td>\n",
       "    </tr>\n",
       "    <tr>\n",
       "      <th>12</th>\n",
       "      <td>CARDIAC DEFIBRILLATOR &amp; HEART ASSIST IMPLANT</td>\n",
       "      <td>980</td>\n",
       "    </tr>\n",
       "    <tr>\n",
       "      <th>13</th>\n",
       "      <td>SEPTICEMIA &amp; DISSEMINATED INFECTIONS</td>\n",
       "      <td>771</td>\n",
       "    </tr>\n",
       "    <tr>\n",
       "      <th>14</th>\n",
       "      <td>TOXIC EFFECTS OF NON-MEDICINAL SUBSTANCES</td>\n",
       "      <td>685</td>\n",
       "    </tr>\n",
       "    <tr>\n",
       "      <th>15</th>\n",
       "      <td>OTHER PNEUMONIA</td>\n",
       "      <td>643</td>\n",
       "    </tr>\n",
       "    <tr>\n",
       "      <th>16</th>\n",
       "      <td>RESPIRATORY SIGNS, SYMPTOMS &amp; MINOR DIAGNOSES</td>\n",
       "      <td>611</td>\n",
       "    </tr>\n",
       "    <tr>\n",
       "      <th>17</th>\n",
       "      <td>CORONARY BYPASS W AMI OR COMPLEX PDX</td>\n",
       "      <td>569</td>\n",
       "    </tr>\n",
       "    <tr>\n",
       "      <th>18</th>\n",
       "      <td>CORONARY BYPASS W CARDIAC CATH OR PERCUTANEOUS...</td>\n",
       "      <td>521</td>\n",
       "    </tr>\n",
       "    <tr>\n",
       "      <th>19</th>\n",
       "      <td>RENAL FAILURE</td>\n",
       "      <td>431</td>\n",
       "    </tr>\n",
       "  </tbody>\n",
       "</table>\n",
       "</div>"
      ],
      "text/plain": [
       "                                  APR DRG Description  cath counts per dx\n",
       "0      PERCUTANEOUS CARDIOVASCULAR PROCEDURES W/O AMI               87866\n",
       "1          PERCUTANEOUS CORONARY INTERVENTION W/O AMI               49533\n",
       "2   CARDIAC CATHETERIZATION FOR ISCHEMIC HEART DIS...               46292\n",
       "3            PERCUTANEOUS CORONARY INTERVENTION W AMI               38496\n",
       "4        PERCUTANEOUS CARDIOVASCULAR PROCEDURES W AMI               34982\n",
       "5   CARDIAC CATHETERIZATION FOR OTHER NON-CORONARY...               33321\n",
       "6                         ACUTE MYOCARDIAL INFARCTION               29885\n",
       "7   CARDIAC CATHETERIZATION W CIRC DISORD EXC ISCH...               23963\n",
       "8   CARDIAC CATHETERIZATION FOR CORONARY ARTERY DI...               23654\n",
       "9   MODERATELY EXTENSIVE PROCEDURE UNRELATED TO PR...                1851\n",
       "10              CHRONIC OBSTRUCTIVE PULMONARY DISEASE                1554\n",
       "11                         OTHER ESOPHAGEAL DISORDERS                1010\n",
       "12       CARDIAC DEFIBRILLATOR & HEART ASSIST IMPLANT                 980\n",
       "13               SEPTICEMIA & DISSEMINATED INFECTIONS                 771\n",
       "14          TOXIC EFFECTS OF NON-MEDICINAL SUBSTANCES                 685\n",
       "15                                    OTHER PNEUMONIA                 643\n",
       "16      RESPIRATORY SIGNS, SYMPTOMS & MINOR DIAGNOSES                 611\n",
       "17               CORONARY BYPASS W AMI OR COMPLEX PDX                 569\n",
       "18  CORONARY BYPASS W CARDIAC CATH OR PERCUTANEOUS...                 521\n",
       "19                                      RENAL FAILURE                 431"
      ]
     },
     "execution_count": 242,
     "metadata": {},
     "output_type": "execute_result"
    }
   ],
   "source": [
    "# cath counts per dx - top 20\n",
    "dx_cath_df.head(20)"
   ]
  },
  {
   "cell_type": "markdown",
   "metadata": {},
   "source": [
    "## Diagnoses of interest\n",
    "\n",
    "PERCUTANEOUS CARDIOVASCULAR PROCEDURES W/O AMI<br />\n",
    "PERCUTANEOUS CORONARY INTERVENTION W/O AMI<br />\n",
    "CARDIAC CATHETERIZATION FOR ISCHEMIC HEART DISEASE<br />\n",
    "PERCUTANEOUS CORONARY INTERVENTION W AMI<br />\n",
    "PERCUTANEOUS CARDIOVASCULAR PROCEDURES W AMI<br />\n",
    "ACUTE MYOCARDIAL INFARCTION<br />\n",
    "CARDIAC CATHETERIZATION W CIRC DISORD EXC ISCHEMIC HEART DISEASE<br />\n",
    "CARDIAC CATHETERIZATION FOR CORONARY ARTERY DISEASE<br />\n",
    "\n",
    "*****************\n",
    "\n",
    "### Exclude:<br />\n",
    "CARDIAC CATHETERIZATION FOR OTHER NON-CORONARY CONDITIONS\n",
    "\n",
    "Note: this is probably kind of arbitrary, and for your analysis, it may be fine to just look at all caths"
   ]
  },
  {
   "cell_type": "code",
   "execution_count": 231,
   "metadata": {
    "collapsed": false
   },
   "outputs": [],
   "source": [
    "# Dx of CAD\n",
    "CAD_dx_list = [\"PERCUTANEOUS CARDIOVASCULAR PROCEDURES W/O AMI\",\n",
    "\"PERCUTANEOUS CORONARY INTERVENTION W/O AMI\",\n",
    "\"CARDIAC CATHETERIZATION FOR ISCHEMIC HEART DISEASE\",\n",
    "\"PERCUTANEOUS CORONARY INTERVENTION W AMI\",\n",
    "\"PERCUTANEOUS CARDIOVASCULAR PROCEDURES W AMI\",\n",
    "#\"CARDIAC CATHETERIZATION FOR OTHER NON-CORONARY CONDITIONS\",\n",
    "\"ACUTE MYOCARDIAL INFARCTION\",\n",
    "\"CARDIAC CATHETERIZATION W CIRC DISORD EXC ISCHEMIC HEART DISEASE\",\n",
    "\"CARDIAC CATHETERIZATION FOR CORONARY ARTERY DISEASE\"]\n",
    "\n",
    "# subset of dataset where caths were done for CAD; dataset of interest for our analysis\n",
    "CAD_cath_df = cath_df[cath_df[\"APR DRG Description\"].isin(CAD_dx_list)]\n",
    "\n",
    "# get toal caths in new CAD df and total caths outside this df\n",
    "total_CAD = dx_cath_df[dx_cath_df['APR DRG Description'].isin(\n",
    "    CAD_dx_list)]['cath counts per dx'].sum()\n",
    "total_non_CAD= dx_cath_df[~dx_cath_df['APR DRG Description'].isin(\n",
    "    CAD_dx_list)]['cath counts per dx'].sum()"
   ]
  },
  {
   "cell_type": "markdown",
   "metadata": {},
   "source": [
    "# Num of caths in CAD dx group vs non-CAD dx group"
   ]
  },
  {
   "cell_type": "markdown",
   "metadata": {},
   "source": [
    "CAD: 334,671<br />\n",
    "non-CAD: 52,118"
   ]
  },
  {
   "cell_type": "markdown",
   "metadata": {},
   "source": [
    "# A couple of the APR DRG Descriptions above correspond to the same APR Diagnostic Code, so use DRG code instead of DRG description"
   ]
  },
  {
   "cell_type": "code",
   "execution_count": 217,
   "metadata": {
    "collapsed": false,
    "scrolled": true
   },
   "outputs": [
    {
     "data": {
      "text/html": [
       "<div>\n",
       "<table border=\"1\" class=\"dataframe\">\n",
       "  <thead>\n",
       "    <tr style=\"text-align: right;\">\n",
       "      <th></th>\n",
       "      <th>APR DRG Code</th>\n",
       "      <th>APR DRG Description</th>\n",
       "    </tr>\n",
       "  </thead>\n",
       "  <tbody>\n",
       "    <tr>\n",
       "      <th>1</th>\n",
       "      <td>174</td>\n",
       "      <td>PERCUTANEOUS CORONARY INTERVENTION W AMI</td>\n",
       "    </tr>\n",
       "    <tr>\n",
       "      <th>7</th>\n",
       "      <td>174</td>\n",
       "      <td>PERCUTANEOUS CARDIOVASCULAR PROCEDURES W AMI</td>\n",
       "    </tr>\n",
       "    <tr>\n",
       "      <th>3</th>\n",
       "      <td>175</td>\n",
       "      <td>PERCUTANEOUS CORONARY INTERVENTION W/O AMI</td>\n",
       "    </tr>\n",
       "    <tr>\n",
       "      <th>6</th>\n",
       "      <td>175</td>\n",
       "      <td>PERCUTANEOUS CARDIOVASCULAR PROCEDURES W/O AMI</td>\n",
       "    </tr>\n",
       "    <tr>\n",
       "      <th>0</th>\n",
       "      <td>190</td>\n",
       "      <td>ACUTE MYOCARDIAL INFARCTION</td>\n",
       "    </tr>\n",
       "    <tr>\n",
       "      <th>2</th>\n",
       "      <td>191</td>\n",
       "      <td>CARDIAC CATHETERIZATION FOR CORONARY ARTERY DI...</td>\n",
       "    </tr>\n",
       "    <tr>\n",
       "      <th>4</th>\n",
       "      <td>191</td>\n",
       "      <td>CARDIAC CATHETERIZATION W CIRC DISORD EXC ISCH...</td>\n",
       "    </tr>\n",
       "    <tr>\n",
       "      <th>5</th>\n",
       "      <td>192</td>\n",
       "      <td>CARDIAC CATHETERIZATION FOR ISCHEMIC HEART DIS...</td>\n",
       "    </tr>\n",
       "  </tbody>\n",
       "</table>\n",
       "</div>"
      ],
      "text/plain": [
       "   APR DRG Code                                APR DRG Description\n",
       "1           174           PERCUTANEOUS CORONARY INTERVENTION W AMI\n",
       "7           174       PERCUTANEOUS CARDIOVASCULAR PROCEDURES W AMI\n",
       "3           175         PERCUTANEOUS CORONARY INTERVENTION W/O AMI\n",
       "6           175     PERCUTANEOUS CARDIOVASCULAR PROCEDURES W/O AMI\n",
       "0           190                        ACUTE MYOCARDIAL INFARCTION\n",
       "2           191  CARDIAC CATHETERIZATION FOR CORONARY ARTERY DI...\n",
       "4           191  CARDIAC CATHETERIZATION W CIRC DISORD EXC ISCH...\n",
       "5           192  CARDIAC CATHETERIZATION FOR ISCHEMIC HEART DIS..."
      ]
     },
     "execution_count": 217,
     "metadata": {},
     "output_type": "execute_result"
    }
   ],
   "source": [
    "DRG_dx_map = CAD_cath_df[['APR DRG Code', 'APR DRG Description']\n",
    "                        ].drop_duplicates().reset_index(drop=True).sort_values('APR DRG Code')\n",
    "DRG_dx_map"
   ]
  },
  {
   "cell_type": "code",
   "execution_count": 52,
   "metadata": {
    "collapsed": false
   },
   "outputs": [],
   "source": [
    "# df of hospitals that did caths for CAD diagnoses\n",
    "hospital_df = pd.DataFrame(CAD_cath_df[\"Facility Name\"].unique())\n",
    "hospital_df = hospital_df.rename(columns={0 : \"hospitals\"}).sort_values(by=\"hospitals\").reset_index(drop=True)\n",
    "\n",
    "# save to CSV file\n",
    "hospital_df.to_csv(\"hospital_list.csv\")"
   ]
  },
  {
   "cell_type": "code",
   "execution_count": 54,
   "metadata": {
    "collapsed": false
   },
   "outputs": [],
   "source": [
    "# caths_per_site_df\n",
    "caths_per_site_df = CAD_cath_df.groupby(\"Facility Name\").size().sort_values(\n",
    "    ascending=False).reset_index(\n",
    "    name=\"cath counts per hosp\")\n",
    "\n",
    "# store in CSV file\n",
    "caths_per_site_df.to_csv('caths_per_hospital.csv')"
   ]
  },
  {
   "cell_type": "markdown",
   "metadata": {},
   "source": [
    "# Sites where fellows work\n",
    "\n",
    "List of current new york cardiology fellowships here: https://services.aamc.org/eras/erasstats/par/display.cfm?NAV_ROW=PAR&SPEC_CD=141<br />\n",
    "Newly accredited fellowships by year can be found here: https://apps.acgme.org/ads/Public/Reports/Report/8<br />\n",
    "Now new fellowships in NY over our period of analysis<br>\n",
    "Determined whether fellows worked at site using google"
   ]
  },
  {
   "cell_type": "code",
   "execution_count": 243,
   "metadata": {
    "collapsed": false
   },
   "outputs": [
    {
     "data": {
      "text/html": [
       "<div>\n",
       "<table border=\"1\" class=\"dataframe\">\n",
       "  <thead>\n",
       "    <tr style=\"text-align: right;\">\n",
       "      <th></th>\n",
       "      <th>Hospitals</th>\n",
       "      <th>Fellows</th>\n",
       "    </tr>\n",
       "  </thead>\n",
       "  <tbody>\n",
       "    <tr>\n",
       "      <th>0</th>\n",
       "      <td>Albany Medical Center Hospital</td>\n",
       "      <td>1</td>\n",
       "    </tr>\n",
       "    <tr>\n",
       "      <th>1</th>\n",
       "      <td>Albany Memorial Hospital</td>\n",
       "      <td>1</td>\n",
       "    </tr>\n",
       "    <tr>\n",
       "      <th>2</th>\n",
       "      <td>Arnot Ogden Medical Center</td>\n",
       "      <td>0</td>\n",
       "    </tr>\n",
       "    <tr>\n",
       "      <th>3</th>\n",
       "      <td>Bellevue Hospital Center</td>\n",
       "      <td>1</td>\n",
       "    </tr>\n",
       "    <tr>\n",
       "      <th>4</th>\n",
       "      <td>Benedictine Hospital</td>\n",
       "      <td>0</td>\n",
       "    </tr>\n",
       "    <tr>\n",
       "      <th>5</th>\n",
       "      <td>Beth Israel Medical Center/Petrie Campus</td>\n",
       "      <td>1</td>\n",
       "    </tr>\n",
       "    <tr>\n",
       "      <th>6</th>\n",
       "      <td>Bronx-Lebanon Hospital Center - Concourse Divi...</td>\n",
       "      <td>0</td>\n",
       "    </tr>\n",
       "    <tr>\n",
       "      <th>7</th>\n",
       "      <td>Brookdale Hospital Medical Center</td>\n",
       "      <td>1</td>\n",
       "    </tr>\n",
       "    <tr>\n",
       "      <th>8</th>\n",
       "      <td>Brookhaven Memorial Hospital Medical Center Inc</td>\n",
       "      <td>0</td>\n",
       "    </tr>\n",
       "    <tr>\n",
       "      <th>9</th>\n",
       "      <td>Brooklyn Hospital Center - Downtown Campus</td>\n",
       "      <td>1</td>\n",
       "    </tr>\n",
       "    <tr>\n",
       "      <th>10</th>\n",
       "      <td>Buffalo General Hospital</td>\n",
       "      <td>1</td>\n",
       "    </tr>\n",
       "    <tr>\n",
       "      <th>11</th>\n",
       "      <td>Cayuga Medical Center at Ithaca</td>\n",
       "      <td>0</td>\n",
       "    </tr>\n",
       "    <tr>\n",
       "      <th>12</th>\n",
       "      <td>Champlain Valley Physicians Hospital Medical C...</td>\n",
       "      <td>0</td>\n",
       "    </tr>\n",
       "    <tr>\n",
       "      <th>13</th>\n",
       "      <td>Clifton Springs Hospital and Clinic</td>\n",
       "      <td>0</td>\n",
       "    </tr>\n",
       "    <tr>\n",
       "      <th>14</th>\n",
       "      <td>Columbia Memorial Hospital</td>\n",
       "      <td>0</td>\n",
       "    </tr>\n",
       "    <tr>\n",
       "      <th>15</th>\n",
       "      <td>Coney Island Hospital</td>\n",
       "      <td>0</td>\n",
       "    </tr>\n",
       "    <tr>\n",
       "      <th>16</th>\n",
       "      <td>Crouse Hospital</td>\n",
       "      <td>0</td>\n",
       "    </tr>\n",
       "    <tr>\n",
       "      <th>17</th>\n",
       "      <td>Degraff Memorial Hospital</td>\n",
       "      <td>0</td>\n",
       "    </tr>\n",
       "    <tr>\n",
       "      <th>18</th>\n",
       "      <td>Ellis Hospital</td>\n",
       "      <td>0</td>\n",
       "    </tr>\n",
       "    <tr>\n",
       "      <th>19</th>\n",
       "      <td>Elmhurst Hospital Center</td>\n",
       "      <td>1</td>\n",
       "    </tr>\n",
       "  </tbody>\n",
       "</table>\n",
       "</div>"
      ],
      "text/plain": [
       "                                            Hospitals  Fellows\n",
       "0                      Albany Medical Center Hospital        1\n",
       "1                            Albany Memorial Hospital        1\n",
       "2                          Arnot Ogden Medical Center        0\n",
       "3                            Bellevue Hospital Center        1\n",
       "4                                Benedictine Hospital        0\n",
       "5            Beth Israel Medical Center/Petrie Campus        1\n",
       "6   Bronx-Lebanon Hospital Center - Concourse Divi...        0\n",
       "7                   Brookdale Hospital Medical Center        1\n",
       "8     Brookhaven Memorial Hospital Medical Center Inc        0\n",
       "9          Brooklyn Hospital Center - Downtown Campus        1\n",
       "10                           Buffalo General Hospital        1\n",
       "11                    Cayuga Medical Center at Ithaca        0\n",
       "12  Champlain Valley Physicians Hospital Medical C...        0\n",
       "13                Clifton Springs Hospital and Clinic        0\n",
       "14                         Columbia Memorial Hospital        0\n",
       "15                              Coney Island Hospital        0\n",
       "16                                    Crouse Hospital        0\n",
       "17                          Degraff Memorial Hospital        0\n",
       "18                                     Ellis Hospital        0\n",
       "19                           Elmhurst Hospital Center        1"
      ]
     },
     "execution_count": 243,
     "metadata": {},
     "output_type": "execute_result"
    }
   ],
   "source": [
    "# import fellow sites \n",
    "fellow_sites_df = pd.read_csv(\"fellowship_locations.csv\")\n",
    "fellow_sites_df.head(20)"
   ]
  },
  {
   "cell_type": "code",
   "execution_count": 227,
   "metadata": {
    "collapsed": false
   },
   "outputs": [],
   "source": [
    "# Get array of fellow sites, cast as str type, make it upper case for matching\n",
    "fellow_sites = fellow_sites_df[fellow_sites_df['Fellows'] == 1]['Hospitals'].values\n",
    "fellow_sites = np.char.upper(fellow_sites.astype(str))"
   ]
  },
  {
   "cell_type": "code",
   "execution_count": 234,
   "metadata": {
    "collapsed": false,
    "scrolled": false
   },
   "outputs": [],
   "source": [
    "# helper function for labeling facilities as fellowship training sites \n",
    "def fellow_site_generator(df):\n",
    "    if df[\"Facility Name\"] in fellow_sites:\n",
    "        return True\n",
    "    else: \n",
    "        return False\n",
    "\n",
    "# add column to each entry indicating whether happened at institution where fellows work\n",
    "CAD_cath_df['Fellows'] = CAD_cath_df.apply(fellow_site_generator, axis=1)"
   ]
  },
  {
   "cell_type": "code",
   "execution_count": 233,
   "metadata": {
    "collapsed": false
   },
   "outputs": [],
   "source": [
    "# helper column for counts\n",
    "CAD_cath_df['counts'] = CAD_cath_df.apply(lambda x: 1, axis=1)"
   ]
  },
  {
   "cell_type": "code",
   "execution_count": 232,
   "metadata": {
    "collapsed": false
   },
   "outputs": [],
   "source": [
    "# clean CAD_cath_df\n",
    "CAD_cath_df = CAD_cath_df.reset_index().drop(['index', 'Unnamed: 0'], 1)\n",
    "\n",
    "# need to remove instances where LOS > 120 days; complicates analysis...\n",
    "# this is too bad becaue they were interesting visits\n",
    "# list of 18 occurances where it happened\n",
    "LOS_too_long = CAD_cath_df[CAD_cath_df['Length of Stay'] == \"120 +\"]\n",
    "\n",
    "# update df to remove those instances\n",
    "CAD_cath_df = CAD_cath_df[CAD_cath_df['Length of Stay'] != \"120 +\"]\n",
    "CAD_cath_df['Length of Stay'] = CAD_cath_df['Length of Stay'].values.astype(int)\n",
    "\n",
    "# helper function for converting strings to floats for total cost\n",
    "def make_float(x):\n",
    "    if type(x) == str:\n",
    "        x = float(x.replace(\",\",\"\"))\n",
    "    return x\n",
    "\n",
    "# make strings floats in cost column\n",
    "CAD_cath_df['Total Costs'] = CAD_cath_df['Total Costs'].apply(make_float)"
   ]
  },
  {
   "cell_type": "code",
   "execution_count": 67,
   "metadata": {
    "collapsed": true
   },
   "outputs": [],
   "source": [
    "# make a fellows and non_fellows separate df's\n",
    "fellows_df = CAD_cath_df[CAD_cath_df[\"Fellows\"] == True]\n",
    "non_fellows_df = CAD_cath_df[CAD_cath_df[\"Fellows\"] == False]"
   ]
  },
  {
   "cell_type": "code",
   "execution_count": 108,
   "metadata": {
    "collapsed": false
   },
   "outputs": [],
   "source": [
    "# define a function that takes a df and an outocme measure and generates useful summary statistics\n",
    "def stat_generator(df, outcome):\n",
    "    \n",
    "    outcome_df = pd.DataFrame(columns=['count', \n",
    "                                     'mean',\n",
    "                                       'median',\n",
    "                                     'std',\n",
    "                                     'max', \n",
    "                                     'min'])\n",
    "    \n",
    "    for status in df['Fellows'].unique():\n",
    "        series = df[df['Fellows'] == status][outcome]\n",
    "        count = len(series)\n",
    "        avg = series.mean()\n",
    "        median = series.median()\n",
    "        std = series.std()\n",
    "        max_outcome = series.max()\n",
    "        min_outcome = series.min()\n",
    "        if status == True:\n",
    "            outcome_df.loc[outcome + \" w/ Fellows\", :] = count, avg, median, std, max_outcome, min_outcome\n",
    "        else: \n",
    "            outcome_df.loc[outcome + \" w/o Fellows\", :] = count, avg, median, std, max_outcome, min_outcome\n",
    "    return outcome_df\n",
    "        "
   ]
  },
  {
   "cell_type": "code",
   "execution_count": 213,
   "metadata": {
    "collapsed": false
   },
   "outputs": [],
   "source": [
    "# make list of tuples of dx and summary stat df's for both los and cost\n",
    "dx_codes = DRG_dx_map['APR DRG Code'].unique()\n",
    "\n",
    "los_df_lst = []\n",
    "cost_df_lst =[]\n",
    "for dx in dx_codes:\n",
    "    dx_df = CAD_cath_df[CAD_cath_df[\"APR DRG Code\"] == dx]\n",
    "    los = stat_generator(dx_df, 'Length of Stay')\n",
    "    cost = stat_generator(dx_df, 'Total Costs')\n",
    "    los.name = dx\n",
    "    cost.name = dx\n",
    "    los_df_lst.append(los)\n",
    "    cost_df_lst.append(cost)\n",
    "    \n",
    "# some print outs for total costs in fellow sites vs non-fellow sites per dx\n",
    "f = open('los_by_dx.csv', \"w+\")\n",
    "f.close()\n",
    "for x in los_df_lst:\n",
    "    with open('los_by_dx.csv', 'a') as f:\n",
    "        f.write(str(x.name))\n",
    "        x.to_csv(f)\n",
    "        f.write('\\n')\n",
    "        \n",
    "# some print outs for total costs in fellow sites vs non-fellow sites per dx\n",
    "f = open('cost_by_dx.csv', \"w+\")\n",
    "f.close()\n",
    "for x in cost_df_lst:\n",
    "    with open('cost_by_dx.csv', 'a') as f:\n",
    "        f.write(str(x.name))\n",
    "        x.to_csv(f)\n",
    "        f.write('\\n')"
   ]
  },
  {
   "cell_type": "markdown",
   "metadata": {},
   "source": [
    "# LOS at fellow vs non-fellow sites across all CAD dx"
   ]
  },
  {
   "cell_type": "code",
   "execution_count": 109,
   "metadata": {
    "collapsed": false
   },
   "outputs": [
    {
     "data": {
      "text/html": [
       "<div>\n",
       "<table border=\"1\" class=\"dataframe\">\n",
       "  <thead>\n",
       "    <tr style=\"text-align: right;\">\n",
       "      <th></th>\n",
       "      <th>count</th>\n",
       "      <th>mean</th>\n",
       "      <th>median</th>\n",
       "      <th>std</th>\n",
       "      <th>max</th>\n",
       "      <th>min</th>\n",
       "    </tr>\n",
       "  </thead>\n",
       "  <tbody>\n",
       "    <tr>\n",
       "      <th>Length of Stay w/o Fellows</th>\n",
       "      <td>110912</td>\n",
       "      <td>3.29521</td>\n",
       "      <td>2</td>\n",
       "      <td>3.30057</td>\n",
       "      <td>103</td>\n",
       "      <td>1</td>\n",
       "    </tr>\n",
       "    <tr>\n",
       "      <th>Length of Stay w/ Fellows</th>\n",
       "      <td>223741</td>\n",
       "      <td>3.2333</td>\n",
       "      <td>2</td>\n",
       "      <td>4.08412</td>\n",
       "      <td>117</td>\n",
       "      <td>1</td>\n",
       "    </tr>\n",
       "  </tbody>\n",
       "</table>\n",
       "</div>"
      ],
      "text/plain": [
       "                             count     mean median      std  max min\n",
       "Length of Stay w/o Fellows  110912  3.29521      2  3.30057  103   1\n",
       "Length of Stay w/ Fellows   223741   3.2333      2  4.08412  117   1"
      ]
     },
     "execution_count": 109,
     "metadata": {},
     "output_type": "execute_result"
    }
   ],
   "source": [
    "# summary statistics of LOS for fellow vs non-fellow sites\n",
    "stat_generator(CAD_cath_df, 'Length of Stay')"
   ]
  },
  {
   "cell_type": "code",
   "execution_count": 238,
   "metadata": {
    "collapsed": false,
    "scrolled": false
   },
   "outputs": [
    {
     "data": {
      "image/png": "[encoded data removed]",
      "text/plain": [
       "<matplotlib.figure.Figure at 0x294fb2e2be0>"
      ]
     },
     "metadata": {},
     "output_type": "display_data"
    }
   ],
   "source": [
    "# Normed histogram of LOS by fellow vs non-fellow institutions\n",
    "bins = np.arange(0, 30, 1)\n",
    "plt.figure(1, figsize=(15,10))\n",
    "plt.hist(fellows_df[\"Length of Stay\"], bins=bins, \n",
    "         histtype='step', label=\"Fellows\", color='blue', normed=True)\n",
    "plt.hist(non_fellows_df[\"Length of Stay\"], bins=bins, \n",
    "         histtype='step', label=\"Non-fellows\", color='orange', normed=True)\n",
    "plt.xlabel(\"LOS\")\n",
    "plt.ylabel(\"Number of hospitalizations\")\n",
    "plt.axvline(np.median(fellows_df[\"Length of Stay\"]), \n",
    "            color='blue', label = 'fellow_median', linestyle='dashed')\n",
    "plt.axvline(np.median(non_fellows_df[\"Length of Stay\"]), \n",
    "            color='orange', label=\"non_fellow_median\", linestyle='dashed')\n",
    "plt.title(\"Histogram of number of LOS\")\n",
    "plt.legend()\n",
    "plt.show()"
   ]
  },
  {
   "cell_type": "markdown",
   "metadata": {},
   "source": [
    "# Total Costs per hospitalization for hospitalizations for caths for CAD at fellow vs non-fellow sites"
   ]
  },
  {
   "cell_type": "code",
   "execution_count": 113,
   "metadata": {
    "collapsed": false,
    "scrolled": true
   },
   "outputs": [
    {
     "data": {
      "text/html": [
       "<div>\n",
       "<table border=\"1\" class=\"dataframe\">\n",
       "  <thead>\n",
       "    <tr style=\"text-align: right;\">\n",
       "      <th></th>\n",
       "      <th>count</th>\n",
       "      <th>mean</th>\n",
       "      <th>median</th>\n",
       "      <th>std</th>\n",
       "      <th>max</th>\n",
       "      <th>min</th>\n",
       "    </tr>\n",
       "  </thead>\n",
       "  <tbody>\n",
       "    <tr>\n",
       "      <th>Total Costs w/o Fellows</th>\n",
       "      <td>110912</td>\n",
       "      <td>13165.7</td>\n",
       "      <td>11114.6</td>\n",
       "      <td>9642.6</td>\n",
       "      <td>221728</td>\n",
       "      <td>0.29</td>\n",
       "    </tr>\n",
       "    <tr>\n",
       "      <th>Total Costs w/ Fellows</th>\n",
       "      <td>223741</td>\n",
       "      <td>16918.3</td>\n",
       "      <td>13136.2</td>\n",
       "      <td>16078.5</td>\n",
       "      <td>803085</td>\n",
       "      <td>770.27</td>\n",
       "    </tr>\n",
       "  </tbody>\n",
       "</table>\n",
       "</div>"
      ],
      "text/plain": [
       "                          count     mean   median      std     max     min\n",
       "Total Costs w/o Fellows  110912  13165.7  11114.6   9642.6  221728    0.29\n",
       "Total Costs w/ Fellows   223741  16918.3  13136.2  16078.5  803085  770.27"
      ]
     },
     "execution_count": 113,
     "metadata": {},
     "output_type": "execute_result"
    }
   ],
   "source": [
    "stat_generator(CAD_cath_df, \"Total Costs\").to_csv('all_dx_total_costs.csv')\n",
    "stat_generator(CAD_cath_df, \"Total Costs\")"
   ]
  },
  {
   "cell_type": "code",
   "execution_count": 236,
   "metadata": {
    "collapsed": false
   },
   "outputs": [
    {
     "data": {
      "image/png": "[encoded data removed]",
      "text/plain": [
       "<matplotlib.figure.Figure at 0x294fca0b668>"
      ]
     },
     "metadata": {},
     "output_type": "display_data"
    }
   ],
   "source": [
    "# Normed histogram of LOS by fellow vs non-fellow institutions\n",
    "bins = np.arange(0, 40000, 100)\n",
    "plt.figure(1, figsize=(15,10))\n",
    "plt.hist(fellows_df[\"Total Costs\"], bins=bins,\n",
    "         histtype='step', label=\"Fellows\", color='blue', normed=True)\n",
    "plt.hist(non_fellows_df[\"Total Costs\"], bins=bins, \n",
    "         histtype='step', label=\"Non-fellows\", color='orange', normed=True)\n",
    "plt.xlabel(\"LOS\")\n",
    "plt.ylabel(\"Number of hospitalizations\")\n",
    "plt.axvline(np.median(fellows_df[\"Total Costs\"]), \n",
    "            color='blue', label = 'fellow_median', linestyle='dashed')\n",
    "plt.axvline(np.median(non_fellows_df[\"Total Costs\"]), \n",
    "            color='orange', label=\"non_fellow_median\", linestyle='dashed')\n",
    "plt.title(\"Histogram of number of Total Costs\")\n",
    "plt.legend()\n",
    "plt.show()"
   ]
  },
  {
   "cell_type": "markdown",
   "metadata": {},
   "source": [
    "### Caths per diagnosis"
   ]
  },
  {
   "cell_type": "code",
   "execution_count": 239,
   "metadata": {
    "collapsed": false
   },
   "outputs": [
    {
     "data": {
      "text/html": [
       "<div>\n",
       "<table border=\"1\" class=\"dataframe\">\n",
       "  <thead>\n",
       "    <tr style=\"text-align: right;\">\n",
       "      <th>Fellows</th>\n",
       "      <th>False</th>\n",
       "      <th>True</th>\n",
       "    </tr>\n",
       "    <tr>\n",
       "      <th>APR DRG Code</th>\n",
       "      <th></th>\n",
       "      <th></th>\n",
       "    </tr>\n",
       "  </thead>\n",
       "  <tbody>\n",
       "    <tr>\n",
       "      <th>174</th>\n",
       "      <td>29911</td>\n",
       "      <td>43563</td>\n",
       "    </tr>\n",
       "    <tr>\n",
       "      <th>175</th>\n",
       "      <td>29269</td>\n",
       "      <td>108128</td>\n",
       "    </tr>\n",
       "    <tr>\n",
       "      <th>190</th>\n",
       "      <td>13746</td>\n",
       "      <td>16138</td>\n",
       "    </tr>\n",
       "    <tr>\n",
       "      <th>191</th>\n",
       "      <td>18209</td>\n",
       "      <td>29398</td>\n",
       "    </tr>\n",
       "    <tr>\n",
       "      <th>192</th>\n",
       "      <td>19777</td>\n",
       "      <td>26514</td>\n",
       "    </tr>\n",
       "  </tbody>\n",
       "</table>\n",
       "</div>"
      ],
      "text/plain": [
       "Fellows       False   True \n",
       "APR DRG Code               \n",
       "174           29911   43563\n",
       "175           29269  108128\n",
       "190           13746   16138\n",
       "191           18209   29398\n",
       "192           19777   26514"
      ]
     },
     "execution_count": 239,
     "metadata": {},
     "output_type": "execute_result"
    }
   ],
   "source": [
    "# table showing number of caths per diagnosis depending on whether fellow site or non-fellow site\n",
    "count_table = pd.pivot_table(CAD_cath_df,\n",
    "                            values=\"counts\", \n",
    "                             index='APR DRG Code',\n",
    "                              columns=\"Fellows\",\n",
    "                              aggfunc=np.sum)\n",
    "count_table"
   ]
  },
  {
   "cell_type": "markdown",
   "metadata": {},
   "source": [
    "### Histograms of above per diagnosis"
   ]
  },
  {
   "cell_type": "code",
   "execution_count": 240,
   "metadata": {
    "collapsed": false
   },
   "outputs": [
    {
     "data": {
      "image/png": "[encoded data removed]",
      "text/plain": [
       "<matplotlib.figure.Figure at 0x294fc301c50>"
      ]
     },
     "metadata": {},
     "output_type": "display_data"
    }
   ],
   "source": [
    "# Normed histograms of LOS by dx\n",
    "ind = 1\n",
    "for dx in dx_codes:\n",
    "    bins = np.arange(0, 30, 1)\n",
    "    fellow_data = CAD_cath_df[(CAD_cath_df['APR DRG Code'] == dx) & \n",
    "                              (CAD_cath_df['Fellows'] == True)]['Length of Stay'].values\n",
    "    non_fellow_data = CAD_cath_df[(CAD_cath_df['APR DRG Code'] == dx) \n",
    "                                  & (CAD_cath_df['Fellows'] == False)]['Length of Stay'].values\n",
    "    fig = plt.figure(1, figsize=(10,20))\n",
    "    ax = fig.add_subplot(5 , 1, ind)\n",
    "    hg = ax.hist([fellow_data, non_fellow_data], \n",
    "                 bins=bins, histtype='step', \n",
    "                 label=['Fellows', 'Non-fellows'], \n",
    "                 color=['blue', 'orange'], \n",
    "                 normed=True)\n",
    "    \n",
    "    fellow_med = np.median(fellow_data)\n",
    "    non_fellow_med = np.median(non_fellow_data)\n",
    "    plt.axvline(fellow_med, color='blue', label = 'fellow_median', linestyle='dashed')\n",
    "    plt.axvline(non_fellow_med, color='orange', label=\"non_fellow_median\", linestyle='dashed')\n",
    "    plt.title(dx)\n",
    "    plt.legend()\n",
    "    plt.tight_layout()\n",
    "    \n",
    "    ind += 1"
   ]
  },
  {
   "cell_type": "code",
   "execution_count": 184,
   "metadata": {
    "collapsed": false,
    "scrolled": false
   },
   "outputs": [
    {
     "data": {
      "image/png": "[encoded data removed]",
      "text/plain": [
       "<matplotlib.figure.Figure at 0x294fc4c1630>"
      ]
     },
     "metadata": {},
     "output_type": "display_data"
    }
   ],
   "source": [
    "# Normed histograms of cost by dx\n",
    "ind = 1\n",
    "for dx in dx_codes:\n",
    "\n",
    "    fellow_data = CAD_cath_df[(CAD_cath_df['APR DRG Code'] == dx) & \n",
    "                              (CAD_cath_df['Fellows'] == True)]['Total Costs'].values\n",
    "    non_fellow_data = CAD_cath_df[(CAD_cath_df['APR DRG Code'] == dx) \n",
    "                                  & (CAD_cath_df['Fellows'] == False)]['Total Costs'].values\n",
    "    fig = plt.figure(1, figsize=(10,20))\n",
    "    ax = fig.add_subplot(5 , 1, ind)\n",
    "    \n",
    "    bins = np.arange(0, 100000, 100)\n",
    "    \n",
    "    hg = ax.hist([fellow_data, non_fellow_data], \n",
    "                 bins=bins, histtype='step', \n",
    "                 label=['Fellows', 'Non-fellows'], \n",
    "                 color=['blue', 'orange'], \n",
    "                 normed=True)\n",
    "    \n",
    "    fellow_med = np.median(fellow_data)\n",
    "    non_fellow_med = np.median(non_fellow_data)\n",
    "    plt.axvline(fellow_med, color='blue', label = 'fellow_median', linestyle='dashed')\n",
    "    plt.axvline(non_fellow_med, color='orange', label=\"non_fellow_median\", linestyle='dashed')\n",
    "\n",
    "    \n",
    "    plt.title(dx)\n",
    "    plt.legend()\n",
    "    plt.tight_layout()\n",
    "\n",
    "    \n",
    "    ind += 1"
   ]
  },
  {
   "cell_type": "markdown",
   "metadata": {},
   "source": [
    "# Death rates at fellow vs non-fellow sites stratified by severity of illness"
   ]
  },
  {
   "cell_type": "code",
   "execution_count": 121,
   "metadata": {
    "collapsed": false,
    "scrolled": true
   },
   "outputs": [
    {
     "data": {
      "text/html": [
       "<div>\n",
       "<table border=\"1\" class=\"dataframe\">\n",
       "  <thead>\n",
       "    <tr style=\"text-align: right;\">\n",
       "      <th></th>\n",
       "      <th>num_deaths</th>\n",
       "      <th>total_discharges</th>\n",
       "      <th>death_rate</th>\n",
       "      <th>proportion_at_severity</th>\n",
       "    </tr>\n",
       "  </thead>\n",
       "  <tbody>\n",
       "    <tr>\n",
       "      <th>Non-fellow, severity index 1</th>\n",
       "      <td>13</td>\n",
       "      <td>40744</td>\n",
       "      <td>0.000319065</td>\n",
       "      <td>0.367354</td>\n",
       "    </tr>\n",
       "    <tr>\n",
       "      <th>Non-fellow, severity index 2</th>\n",
       "      <td>60</td>\n",
       "      <td>42190</td>\n",
       "      <td>0.00142214</td>\n",
       "      <td>0.380392</td>\n",
       "    </tr>\n",
       "    <tr>\n",
       "      <th>Non-fellow, severity index 3</th>\n",
       "      <td>214</td>\n",
       "      <td>23619</td>\n",
       "      <td>0.0090605</td>\n",
       "      <td>0.212953</td>\n",
       "    </tr>\n",
       "    <tr>\n",
       "      <th>Non-fellow, severity index 4</th>\n",
       "      <td>460</td>\n",
       "      <td>4359</td>\n",
       "      <td>0.105529</td>\n",
       "      <td>0.0393014</td>\n",
       "    </tr>\n",
       "    <tr>\n",
       "      <th>Fellow, severity index 1</th>\n",
       "      <td>11</td>\n",
       "      <td>88684</td>\n",
       "      <td>0.000124036</td>\n",
       "      <td>0.396369</td>\n",
       "    </tr>\n",
       "    <tr>\n",
       "      <th>Fellow, severity index 2</th>\n",
       "      <td>78</td>\n",
       "      <td>80842</td>\n",
       "      <td>0.000964845</td>\n",
       "      <td>0.36132</td>\n",
       "    </tr>\n",
       "    <tr>\n",
       "      <th>Fellow, severity index 3</th>\n",
       "      <td>331</td>\n",
       "      <td>45380</td>\n",
       "      <td>0.00729396</td>\n",
       "      <td>0.202824</td>\n",
       "    </tr>\n",
       "    <tr>\n",
       "      <th>Fellow, severity index 4</th>\n",
       "      <td>1042</td>\n",
       "      <td>8835</td>\n",
       "      <td>0.11794</td>\n",
       "      <td>0.0394876</td>\n",
       "    </tr>\n",
       "  </tbody>\n",
       "</table>\n",
       "</div>"
      ],
      "text/plain": [
       "                             num_deaths total_discharges   death_rate  \\\n",
       "Non-fellow, severity index 1         13            40744  0.000319065   \n",
       "Non-fellow, severity index 2         60            42190   0.00142214   \n",
       "Non-fellow, severity index 3        214            23619    0.0090605   \n",
       "Non-fellow, severity index 4        460             4359     0.105529   \n",
       "Fellow, severity index 1             11            88684  0.000124036   \n",
       "Fellow, severity index 2             78            80842  0.000964845   \n",
       "Fellow, severity index 3            331            45380   0.00729396   \n",
       "Fellow, severity index 4           1042             8835      0.11794   \n",
       "\n",
       "                             proportion_at_severity  \n",
       "Non-fellow, severity index 1               0.367354  \n",
       "Non-fellow, severity index 2               0.380392  \n",
       "Non-fellow, severity index 3               0.212953  \n",
       "Non-fellow, severity index 4              0.0393014  \n",
       "Fellow, severity index 1                   0.396369  \n",
       "Fellow, severity index 2                    0.36132  \n",
       "Fellow, severity index 3                   0.202824  \n",
       "Fellow, severity index 4                  0.0394876  "
      ]
     },
     "execution_count": 121,
     "metadata": {},
     "output_type": "execute_result"
    }
   ],
   "source": [
    "# deaths, total discharges, death rate and percent at that level of severity\n",
    "sev_totals = CAD_cath_df.groupby('Fellows')['counts'].sum().values\n",
    "death_rate_df = pd.DataFrame(columns=['num_deaths','total_discharges','death_rate', 'proportion_at_severity'])\n",
    "gb = CAD_cath_df.groupby([\"Fellows\", 'APR Severity of Illness Code'])\n",
    "\n",
    "idx = 0\n",
    "for k, gp in gb:\n",
    "    sev_total = sev_totals[math.floor(idx/4)]\n",
    "    deaths = gp[gp['Patient Disposition'] == 'EXPIRED'].shape[0]\n",
    "    total_dcs = int(gp.shape[0])\n",
    "    death_rate = deaths / total_dcs\n",
    "    sev_rate = total_dcs / sev_total\n",
    "    if k[0] == False:\n",
    "        k = \"Non-fellow, severity index \" + str(k[1])\n",
    "    else:\n",
    "        k = \"Fellow, severity index \" + str(k[1])\n",
    "    death_rate_df.loc[str(k), :] = deaths, total_dcs, death_rate, sev_rate\n",
    "    idx += 1\n",
    "    \n",
    "death_rate_df"
   ]
  },
  {
   "cell_type": "code",
   "execution_count": 188,
   "metadata": {
    "collapsed": false
   },
   "outputs": [
    {
     "data": {
      "text/html": [
       "<div>\n",
       "<table border=\"1\" class=\"dataframe\">\n",
       "  <thead>\n",
       "    <tr style=\"text-align: right;\">\n",
       "      <th></th>\n",
       "      <th>APR Severity of Illness Code</th>\n",
       "    </tr>\n",
       "    <tr>\n",
       "      <th>Fellows</th>\n",
       "      <th></th>\n",
       "    </tr>\n",
       "  </thead>\n",
       "  <tbody>\n",
       "    <tr>\n",
       "      <th>False</th>\n",
       "      <td>1.924201</td>\n",
       "    </tr>\n",
       "    <tr>\n",
       "      <th>True</th>\n",
       "      <td>1.885430</td>\n",
       "    </tr>\n",
       "  </tbody>\n",
       "</table>\n",
       "</div>"
      ],
      "text/plain": [
       "         APR Severity of Illness Code\n",
       "Fellows                              \n",
       "False                        1.924201\n",
       "True                         1.885430"
      ]
     },
     "execution_count": 188,
     "metadata": {},
     "output_type": "execute_result"
    }
   ],
   "source": [
    "# Average Severity of illness of fellows vs non-fellows\n",
    "CAD_cath_df.groupby('Fellows').agg({\n",
    "    \"APR Severity of Illness Code\" : np.mean\n",
    "})"
   ]
  },
  {
   "cell_type": "code",
   "execution_count": 122,
   "metadata": {
    "collapsed": false,
    "scrolled": false
   },
   "outputs": [
    {
     "data": {
      "text/html": [
       "<div>\n",
       "<table border=\"1\" class=\"dataframe\">\n",
       "  <thead>\n",
       "    <tr style=\"text-align: right;\">\n",
       "      <th>Fellows</th>\n",
       "      <th>False</th>\n",
       "      <th>True</th>\n",
       "    </tr>\n",
       "    <tr>\n",
       "      <th>APR DRG Code</th>\n",
       "      <th></th>\n",
       "      <th></th>\n",
       "    </tr>\n",
       "  </thead>\n",
       "  <tbody>\n",
       "    <tr>\n",
       "      <th>174</th>\n",
       "      <td>1.855806</td>\n",
       "      <td>1.984345</td>\n",
       "    </tr>\n",
       "    <tr>\n",
       "      <th>175</th>\n",
       "      <td>1.710752</td>\n",
       "      <td>1.644394</td>\n",
       "    </tr>\n",
       "    <tr>\n",
       "      <th>190</th>\n",
       "      <td>2.160920</td>\n",
       "      <td>2.273206</td>\n",
       "    </tr>\n",
       "    <tr>\n",
       "      <th>191</th>\n",
       "      <td>2.487067</td>\n",
       "      <td>2.597456</td>\n",
       "    </tr>\n",
       "    <tr>\n",
       "      <th>192</th>\n",
       "      <td>1.660768</td>\n",
       "      <td>1.680395</td>\n",
       "    </tr>\n",
       "  </tbody>\n",
       "</table>\n",
       "</div>"
      ],
      "text/plain": [
       "Fellows          False     True \n",
       "APR DRG Code                    \n",
       "174           1.855806  1.984345\n",
       "175           1.710752  1.644394\n",
       "190           2.160920  2.273206\n",
       "191           2.487067  2.597456\n",
       "192           1.660768  1.680395"
      ]
     },
     "execution_count": 122,
     "metadata": {},
     "output_type": "execute_result"
    }
   ],
   "source": [
    "# Average illness severity for each diangosis by fellow vs. non-fellow site\n",
    "illness_severity = pd.pivot_table(CAD_cath_df, \n",
    "                               values=\"APR Severity of Illness Code\",\n",
    "                               index='APR DRG Code',\n",
    "                              columns=\"Fellows\",\n",
    "                              aggfunc=np.mean)\n",
    "illness_severity"
   ]
  },
  {
   "cell_type": "markdown",
   "metadata": {},
   "source": [
    "# Number of hospitalizations by admission type"
   ]
  },
  {
   "cell_type": "code",
   "execution_count": 211,
   "metadata": {
    "collapsed": false
   },
   "outputs": [
    {
     "name": "stderr",
     "output_type": "stream",
     "text": [
      "C:\\Users\\samko\\Anaconda3\\lib\\site-packages\\ipykernel\\__main__.py:8: SettingWithCopyWarning: \n",
      "A value is trying to be set on a copy of a slice from a DataFrame.\n",
      "Try using .loc[row_indexer,col_indexer] = value instead\n",
      "\n",
      "See the caveats in the documentation: http://pandas.pydata.org/pandas-docs/stable/indexing.html#indexing-view-versus-copy\n",
      "C:\\Users\\samko\\Anaconda3\\lib\\site-packages\\ipykernel\\__main__.py:9: SettingWithCopyWarning: \n",
      "A value is trying to be set on a copy of a slice from a DataFrame.\n",
      "Try using .loc[row_indexer,col_indexer] = value instead\n",
      "\n",
      "See the caveats in the documentation: http://pandas.pydata.org/pandas-docs/stable/indexing.html#indexing-view-versus-copy\n"
     ]
    },
    {
     "data": {
      "text/html": [
       "<div>\n",
       "<table border=\"1\" class=\"dataframe\">\n",
       "  <thead>\n",
       "    <tr style=\"text-align: right;\">\n",
       "      <th></th>\n",
       "      <th>Fellows</th>\n",
       "      <th>Type of Admission</th>\n",
       "      <th>counts</th>\n",
       "      <th>proportion</th>\n",
       "    </tr>\n",
       "  </thead>\n",
       "  <tbody>\n",
       "    <tr>\n",
       "      <th>0</th>\n",
       "      <td>True</td>\n",
       "      <td>Elective</td>\n",
       "      <td>38127</td>\n",
       "      <td>0.170407</td>\n",
       "    </tr>\n",
       "    <tr>\n",
       "      <th>1</th>\n",
       "      <td>True</td>\n",
       "      <td>Emergency</td>\n",
       "      <td>132268</td>\n",
       "      <td>0.591166</td>\n",
       "    </tr>\n",
       "    <tr>\n",
       "      <th>2</th>\n",
       "      <td>True</td>\n",
       "      <td>Newborn</td>\n",
       "      <td>17</td>\n",
       "      <td>0.000076</td>\n",
       "    </tr>\n",
       "    <tr>\n",
       "      <th>3</th>\n",
       "      <td>True</td>\n",
       "      <td>Not Available</td>\n",
       "      <td>870</td>\n",
       "      <td>0.003888</td>\n",
       "    </tr>\n",
       "    <tr>\n",
       "      <th>4</th>\n",
       "      <td>True</td>\n",
       "      <td>Trauma</td>\n",
       "      <td>91</td>\n",
       "      <td>0.000407</td>\n",
       "    </tr>\n",
       "    <tr>\n",
       "      <th>5</th>\n",
       "      <td>True</td>\n",
       "      <td>Urgent</td>\n",
       "      <td>52368</td>\n",
       "      <td>0.234056</td>\n",
       "    </tr>\n",
       "    <tr>\n",
       "      <th>6</th>\n",
       "      <td>False</td>\n",
       "      <td>Elective</td>\n",
       "      <td>11565</td>\n",
       "      <td>0.104272</td>\n",
       "    </tr>\n",
       "    <tr>\n",
       "      <th>7</th>\n",
       "      <td>False</td>\n",
       "      <td>Emergency</td>\n",
       "      <td>73935</td>\n",
       "      <td>0.666610</td>\n",
       "    </tr>\n",
       "    <tr>\n",
       "      <th>8</th>\n",
       "      <td>False</td>\n",
       "      <td>Newborn</td>\n",
       "      <td>3</td>\n",
       "      <td>0.000027</td>\n",
       "    </tr>\n",
       "    <tr>\n",
       "      <th>9</th>\n",
       "      <td>False</td>\n",
       "      <td>Not Available</td>\n",
       "      <td>95</td>\n",
       "      <td>0.000857</td>\n",
       "    </tr>\n",
       "    <tr>\n",
       "      <th>10</th>\n",
       "      <td>False</td>\n",
       "      <td>Trauma</td>\n",
       "      <td>7</td>\n",
       "      <td>0.000063</td>\n",
       "    </tr>\n",
       "    <tr>\n",
       "      <th>11</th>\n",
       "      <td>False</td>\n",
       "      <td>Urgent</td>\n",
       "      <td>25307</td>\n",
       "      <td>0.228172</td>\n",
       "    </tr>\n",
       "  </tbody>\n",
       "</table>\n",
       "</div>"
      ],
      "text/plain": [
       "   Fellows Type of Admission  counts  proportion\n",
       "0     True          Elective   38127    0.170407\n",
       "1     True         Emergency  132268    0.591166\n",
       "2     True           Newborn      17    0.000076\n",
       "3     True     Not Available     870    0.003888\n",
       "4     True            Trauma      91    0.000407\n",
       "5     True            Urgent   52368    0.234056\n",
       "6    False          Elective   11565    0.104272\n",
       "7    False         Emergency   73935    0.666610\n",
       "8    False           Newborn       3    0.000027\n",
       "9    False     Not Available      95    0.000857\n",
       "10   False            Trauma       7    0.000063\n",
       "11   False            Urgent   25307    0.228172"
      ]
     },
     "execution_count": 211,
     "metadata": {},
     "output_type": "execute_result"
    }
   ],
   "source": [
    "# urgency of admission comparison\n",
    "admission_type_df = CAD_cath_df.groupby(['Fellows', 'Type of Admission'])['counts'].sum().reset_index()\n",
    "f_admission_type_df = admission_type_df[admission_type_df['Fellows'] == True]\n",
    "n_admission_type_df = admission_type_df[admission_type_df['Fellows'] == False]\n",
    "f_total = f_admission_type_df['counts'].sum()\n",
    "n_total = n_admission_type_df['counts'].sum()\n",
    "f_admission_type_df['proportion'] = f_admission_type_df['counts'].apply(lambda x: x / f_total)\n",
    "n_admission_type_df['proportion'] = n_admission_type_df['counts'].apply(lambda x: x / n_total)\n",
    "admit_type_df = f_admission_type_df.append(n_admission_type_df, ignore_index=True)\n",
    "admit_type_df"
   ]
  },
  {
   "cell_type": "markdown",
   "metadata": {},
   "source": [
    "# Individual hospital stats"
   ]
  },
  {
   "cell_type": "code",
   "execution_count": 187,
   "metadata": {
    "collapsed": false,
    "scrolled": false
   },
   "outputs": [
    {
     "data": {
      "text/html": [
       "<div>\n",
       "<table border=\"1\" class=\"dataframe\">\n",
       "  <thead>\n",
       "    <tr style=\"text-align: right;\">\n",
       "      <th></th>\n",
       "      <th>Facility Name</th>\n",
       "      <th>avg_LOS_per_hosp</th>\n",
       "      <th>Caths_per_hosp</th>\n",
       "      <th>dispo_rate</th>\n",
       "    </tr>\n",
       "  </thead>\n",
       "  <tbody>\n",
       "    <tr>\n",
       "      <th>0</th>\n",
       "      <td>LONG ISLAND JEWISH MEDICAL CENTER</td>\n",
       "      <td>2.980212</td>\n",
       "      <td>13190</td>\n",
       "      <td>0.002729</td>\n",
       "    </tr>\n",
       "    <tr>\n",
       "      <th>1</th>\n",
       "      <td>LENOX HILL HOSPITAL</td>\n",
       "      <td>2.186954</td>\n",
       "      <td>13046</td>\n",
       "      <td>0.003143</td>\n",
       "    </tr>\n",
       "    <tr>\n",
       "      <th>2</th>\n",
       "      <td>GOOD SAMARITAN HOSPITAL MEDICAL CENTER</td>\n",
       "      <td>2.847983</td>\n",
       "      <td>5256</td>\n",
       "      <td>0.003425</td>\n",
       "    </tr>\n",
       "    <tr>\n",
       "      <th>3</th>\n",
       "      <td>NEW YORK METHODIST HOSPITAL</td>\n",
       "      <td>2.592651</td>\n",
       "      <td>6368</td>\n",
       "      <td>0.003612</td>\n",
       "    </tr>\n",
       "    <tr>\n",
       "      <th>4</th>\n",
       "      <td>MOUNT SINAI HOSPITAL</td>\n",
       "      <td>2.087316</td>\n",
       "      <td>20214</td>\n",
       "      <td>0.003710</td>\n",
       "    </tr>\n",
       "    <tr>\n",
       "      <th>5</th>\n",
       "      <td>NYU HOSPITALS CENTER</td>\n",
       "      <td>2.173241</td>\n",
       "      <td>6084</td>\n",
       "      <td>0.003945</td>\n",
       "    </tr>\n",
       "    <tr>\n",
       "      <th>6</th>\n",
       "      <td>NORTH SHORE UNIVERSITY HOSPITAL</td>\n",
       "      <td>2.896404</td>\n",
       "      <td>12597</td>\n",
       "      <td>0.004525</td>\n",
       "    </tr>\n",
       "    <tr>\n",
       "      <th>7</th>\n",
       "      <td>ROCHESTER GENERAL HOSPITAL</td>\n",
       "      <td>2.738296</td>\n",
       "      <td>9954</td>\n",
       "      <td>0.004822</td>\n",
       "    </tr>\n",
       "    <tr>\n",
       "      <th>8</th>\n",
       "      <td>WINTHROP-UNIVERSITY HOSPITAL</td>\n",
       "      <td>3.635165</td>\n",
       "      <td>8042</td>\n",
       "      <td>0.005223</td>\n",
       "    </tr>\n",
       "    <tr>\n",
       "      <th>9</th>\n",
       "      <td>STATEN ISLAND UNIVERSITY HOSP-NORTH</td>\n",
       "      <td>3.250166</td>\n",
       "      <td>7523</td>\n",
       "      <td>0.005982</td>\n",
       "    </tr>\n",
       "    <tr>\n",
       "      <th>10</th>\n",
       "      <td>NEW YORK PRESBYTERIAN HOSPITAL - COLUMBIA PRES...</td>\n",
       "      <td>3.529056</td>\n",
       "      <td>18172</td>\n",
       "      <td>0.005998</td>\n",
       "    </tr>\n",
       "    <tr>\n",
       "      <th>11</th>\n",
       "      <td>ST ELIZABETH MEDICAL CENTER</td>\n",
       "      <td>3.166214</td>\n",
       "      <td>5150</td>\n",
       "      <td>0.006408</td>\n",
       "    </tr>\n",
       "    <tr>\n",
       "      <th>12</th>\n",
       "      <td>ST FRANCIS HOSPITAL</td>\n",
       "      <td>3.076662</td>\n",
       "      <td>17114</td>\n",
       "      <td>0.007129</td>\n",
       "    </tr>\n",
       "    <tr>\n",
       "      <th>13</th>\n",
       "      <td>MONTEFIORE MEDICAL CENTER - HENRY &amp; LUCY MOSES...</td>\n",
       "      <td>4.192295</td>\n",
       "      <td>6308</td>\n",
       "      <td>0.007609</td>\n",
       "    </tr>\n",
       "    <tr>\n",
       "      <th>14</th>\n",
       "      <td>MAIMONIDES MEDICAL CENTER</td>\n",
       "      <td>3.544568</td>\n",
       "      <td>8515</td>\n",
       "      <td>0.007751</td>\n",
       "    </tr>\n",
       "    <tr>\n",
       "      <th>15</th>\n",
       "      <td>UNIVERSITY HOSPITAL</td>\n",
       "      <td>3.494404</td>\n",
       "      <td>9650</td>\n",
       "      <td>0.008705</td>\n",
       "    </tr>\n",
       "    <tr>\n",
       "      <th>16</th>\n",
       "      <td>MONTEFIORE MED CENTER - JACK D WEILER HOSP OF ...</td>\n",
       "      <td>4.045921</td>\n",
       "      <td>5161</td>\n",
       "      <td>0.008913</td>\n",
       "    </tr>\n",
       "    <tr>\n",
       "      <th>17</th>\n",
       "      <td>NEW YORK PRESBYTERIAN HOSPITAL - NEW YORK WEIL...</td>\n",
       "      <td>3.774920</td>\n",
       "      <td>10263</td>\n",
       "      <td>0.009062</td>\n",
       "    </tr>\n",
       "    <tr>\n",
       "      <th>18</th>\n",
       "      <td>ST JOSEPHS HOSPITAL HEALTH CENTER</td>\n",
       "      <td>2.572825</td>\n",
       "      <td>10333</td>\n",
       "      <td>0.009968</td>\n",
       "    </tr>\n",
       "    <tr>\n",
       "      <th>19</th>\n",
       "      <td>WESTCHESTER MEDICAL CENTER</td>\n",
       "      <td>3.101712</td>\n",
       "      <td>5024</td>\n",
       "      <td>0.010748</td>\n",
       "    </tr>\n",
       "    <tr>\n",
       "      <th>20</th>\n",
       "      <td>BUFFALO GENERAL HOSPITAL</td>\n",
       "      <td>3.354956</td>\n",
       "      <td>9342</td>\n",
       "      <td>0.011025</td>\n",
       "    </tr>\n",
       "    <tr>\n",
       "      <th>21</th>\n",
       "      <td>STRONG MEMORIAL HOSPITAL</td>\n",
       "      <td>3.226130</td>\n",
       "      <td>6483</td>\n",
       "      <td>0.011569</td>\n",
       "    </tr>\n",
       "  </tbody>\n",
       "</table>\n",
       "</div>"
      ],
      "text/plain": [
       "                                        Facility Name  avg_LOS_per_hosp  \\\n",
       "0                   LONG ISLAND JEWISH MEDICAL CENTER          2.980212   \n",
       "1                                 LENOX HILL HOSPITAL          2.186954   \n",
       "2              GOOD SAMARITAN HOSPITAL MEDICAL CENTER          2.847983   \n",
       "3                         NEW YORK METHODIST HOSPITAL          2.592651   \n",
       "4                                MOUNT SINAI HOSPITAL          2.087316   \n",
       "5                                NYU HOSPITALS CENTER          2.173241   \n",
       "6                     NORTH SHORE UNIVERSITY HOSPITAL          2.896404   \n",
       "7                          ROCHESTER GENERAL HOSPITAL          2.738296   \n",
       "8                        WINTHROP-UNIVERSITY HOSPITAL          3.635165   \n",
       "9                 STATEN ISLAND UNIVERSITY HOSP-NORTH          3.250166   \n",
       "10  NEW YORK PRESBYTERIAN HOSPITAL - COLUMBIA PRES...          3.529056   \n",
       "11                        ST ELIZABETH MEDICAL CENTER          3.166214   \n",
       "12                                ST FRANCIS HOSPITAL          3.076662   \n",
       "13  MONTEFIORE MEDICAL CENTER - HENRY & LUCY MOSES...          4.192295   \n",
       "14                          MAIMONIDES MEDICAL CENTER          3.544568   \n",
       "15                                UNIVERSITY HOSPITAL          3.494404   \n",
       "16  MONTEFIORE MED CENTER - JACK D WEILER HOSP OF ...          4.045921   \n",
       "17  NEW YORK PRESBYTERIAN HOSPITAL - NEW YORK WEIL...          3.774920   \n",
       "18                  ST JOSEPHS HOSPITAL HEALTH CENTER          2.572825   \n",
       "19                         WESTCHESTER MEDICAL CENTER          3.101712   \n",
       "20                           BUFFALO GENERAL HOSPITAL          3.354956   \n",
       "21                           STRONG MEMORIAL HOSPITAL          3.226130   \n",
       "\n",
       "    Caths_per_hosp  dispo_rate  \n",
       "0            13190    0.002729  \n",
       "1            13046    0.003143  \n",
       "2             5256    0.003425  \n",
       "3             6368    0.003612  \n",
       "4            20214    0.003710  \n",
       "5             6084    0.003945  \n",
       "6            12597    0.004525  \n",
       "7             9954    0.004822  \n",
       "8             8042    0.005223  \n",
       "9             7523    0.005982  \n",
       "10           18172    0.005998  \n",
       "11            5150    0.006408  \n",
       "12           17114    0.007129  \n",
       "13            6308    0.007609  \n",
       "14            8515    0.007751  \n",
       "15            9650    0.008705  \n",
       "16            5161    0.008913  \n",
       "17           10263    0.009062  \n",
       "18           10333    0.009968  \n",
       "19            5024    0.010748  \n",
       "20            9342    0.011025  \n",
       "21            6483    0.011569  "
      ]
     },
     "execution_count": 187,
     "metadata": {},
     "output_type": "execute_result"
    }
   ],
   "source": [
    "CAD_cath_df['dispo_per_hosp'] = CAD_cath_df.groupby(['Facility Name', 'Patient Disposition'])['counts'].transform('sum')\n",
    "CAD_cath_df['Caths_per_hosp'] = CAD_cath_df.groupby(['Facility Name'])['counts'].transform('sum')\n",
    "CAD_cath_df['dispo_rate'] = CAD_cath_df['dispo_per_hosp'] / CAD_cath_df['Caths_per_hosp']\n",
    "CAD_cath_df['avg_LOS_per_hosp'] = CAD_cath_df.groupby(['Facility Name'])['Length of Stay'].transform(np.mean)\n",
    "\n",
    "dispo_rate_df = CAD_cath_df[['Facility Name', 'avg_LOS_per_hosp', 'Patient Disposition', \n",
    "                             'Caths_per_hosp', 'dispo_rate']].drop_duplicates()\n",
    "\n",
    "dispo_rate_df.reset_index(drop=True,inplace=True)\n",
    "hosp_death_rate_df = dispo_rate_df[\n",
    "    dispo_rate_df['Patient Disposition'] == 'EXPIRED'].sort_values(\n",
    "    'dispo_rate').reset_index(drop=True).drop('Patient Disposition', 1)\n",
    "\n",
    "# death rate and avg LOS in hosps that have done > 5000 caths over this time period\n",
    "hosp_death_rate_df[hosp_death_rate_df['Caths_per_hosp'] > 5000].sort_values(\n",
    "    'dispo_rate').reset_index(drop=True)"
   ]
  }
 ],
 "metadata": {
  "kernelspec": {
   "display_name": "Python 3",
   "language": "python",
   "name": "python3"
  },
  "language_info": {
   "codemirror_mode": {
    "name": "ipython",
    "version": 3
   },
   "file_extension": ".py",
   "mimetype": "text/x-python",
   "name": "python",
   "nbconvert_exporter": "python",
   "pygments_lexer": "ipython3",
   "version": "3.6.0"
  }
 },
 "nbformat": 4,
 "nbformat_minor": 2
}
